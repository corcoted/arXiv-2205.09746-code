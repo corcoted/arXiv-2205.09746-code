{
 "cells": [
  {
   "cell_type": "markdown",
   "id": "bfbfd1ae",
   "metadata": {
    "cell_marker": "\"\"\""
   },
   "source": [
    "# Supplemental Material: Example code\n",
    "\"Beyond the ABCDs: A projective geometry treatment of paraxial ray tracing using homogeneous coordinates\"\n",
    "Theodore A. Corcovilos (c) 2023, accepted for publication in *American Journal of Physics* and also available at [arXiv:2205.09746](https://arxiv.org/abs/2205.09746)."
   ]
  },
  {
   "cell_type": "markdown",
   "id": "44c2f17f",
   "metadata": {
    "cell_marker": "\"\"\""
   },
   "source": [
    "All of the examples in the manuscript are worked here in [python](http://python.org) using the symbolic algebra library [_sympy_](http://www.sympy.org/).  The end section contains additional examples that were omitted from the final version of the paper."
   ]
  },
  {
   "cell_type": "markdown",
   "id": "b3d0263c",
   "metadata": {
    "cell_marker": "\"\"\""
   },
   "source": [
    "This python script is a [Jupyter notebook](http://jupyter.org/) in the \"percent\" archival notebook format, but it is best viewed by first converting into the Jupyter notebook `.ipynb` standard format using [`jupytext`](https://jupytext.readthedocs.io).\n",
    "\n",
    "```\n",
    "jupytext --to ipynb worked-examples.py\n",
    "```"
   ]
  },
  {
   "cell_type": "markdown",
   "id": "6c715d66",
   "metadata": {},
   "source": [
    "_Required packages: sympy_"
   ]
  },
  {
   "cell_type": "markdown",
   "id": "23dd08a7",
   "metadata": {},
   "source": [
    "## Table of Contents\n",
    "* [Definitions of rays and points](#Definitions-of-rays-and-points)\n",
    "* [Definitions of ray transfer matrices](#Definitions-of-ray-transfer-matrices)\n",
    "* [Definition of matrix adjugate](#Definition-of-matrix-adjugate)\n",
    "* [Coordinate transformations](#Coordinate-transformations)\n",
    "  * [Coordinate transformations of points](#Coordinate-transformations-of-points)\n",
    "  * [Other definitions of the rotation operator](#Other-definitions-of-rotation)\n",
    "* [Examples from the main text](#Examples)\n",
    "  * [Example 4.1](#Example-4.1)\n",
    "  * [Example 5.1](#Example-5.1)\n",
    "  * [Example point transfer matrices from Section 6](#Example-point-transfer-matrices)\n",
    "  * [Example 7.2](#Example-7.2)\n",
    "  * [Example 7.3](#Example-7.3)\n",
    "  * [Example 7.4](#Example-7.4)\n",
    "* [Additional examples](#Other-examples)\n",
    "  * [Path-folding mirrors](#Folding-mirrors)\n",
    "  * [Thick lens](#Example:-thick-lens)\n",
    "  * [Right-angle prism](#Example:-Right-angle-prism)"
   ]
  },
  {
   "cell_type": "code",
   "execution_count": 1,
   "id": "06ebef2a",
   "metadata": {
    "lines_to_next_cell": 0
   },
   "outputs": [],
   "source": [
    "# set up the python libraries\n",
    "from sympy import *\n",
    "init_printing()"
   ]
  },
  {
   "cell_type": "code",
   "execution_count": 2,
   "id": "876f5c01",
   "metadata": {},
   "outputs": [],
   "source": [
    "# define some variable names\n",
    "A, B, C, D, F, G = symbols(\"A, B, C, D, F, G\", real=True)\n",
    "h, m, x, y, a, b, c = symbols(\"h, m, x, y, a, b, c\", real=True)\n",
    "d, f, u, v = symbols(\"d, f, u, v\",real=True)\n",
    "n1, n2, R = symbols(\"n1, n2, R\", real=True)"
   ]
  },
  {
   "cell_type": "markdown",
   "id": "3f5d5b98",
   "metadata": {},
   "source": [
    "## Definitions of rays and points\n",
    "From Section 3 and Section 6"
   ]
  },
  {
   "cell_type": "code",
   "execution_count": 3,
   "id": "cf89b009",
   "metadata": {},
   "outputs": [
    {
     "data": {
      "image/png": "[encoded data removed]",
      "text/latex": [
       "$\\displaystyle \\left[\\begin{matrix}- h\\\\- m\\\\1\\end{matrix}\\right]$"
      ],
      "text/plain": [
       "⎡-h⎤\n",
       "⎢  ⎥\n",
       "⎢-m⎥\n",
       "⎢  ⎥\n",
       "⎣1 ⎦"
      ]
     },
     "execution_count": 3,
     "metadata": {},
     "output_type": "execute_result"
    }
   ],
   "source": [
    "# left-to-right ray\n",
    "ray = lambda h, m: Matrix([[-h],[-m],[1]])\n",
    "ray(h,m)"
   ]
  },
  {
   "cell_type": "code",
   "execution_count": 4,
   "id": "ab90d0e3",
   "metadata": {},
   "outputs": [
    {
     "data": {
      "image/png": "[encoded data removed]",
      "text/latex": [
       "$\\displaystyle \\left[\\begin{matrix}1\\\\x\\\\y\\end{matrix}\\right]$"
      ],
      "text/plain": [
       "⎡1⎤\n",
       "⎢ ⎥\n",
       "⎢x⎥\n",
       "⎢ ⎥\n",
       "⎣y⎦"
      ]
     },
     "execution_count": 4,
     "metadata": {},
     "output_type": "execute_result"
    }
   ],
   "source": [
    "# point\n",
    "point = lambda x, y: Matrix([[1],[x],[y]])\n",
    "point(x,y)"
   ]
  },
  {
   "cell_type": "code",
   "execution_count": 5,
   "id": "2a99b606",
   "metadata": {},
   "outputs": [
    {
     "data": {
      "image/png": "[encoded data removed]",
      "text/latex": [
       "$\\displaystyle \\left[\\begin{matrix}0\\\\a\\\\b\\end{matrix}\\right]$"
      ],
      "text/plain": [
       "⎡0⎤\n",
       "⎢ ⎥\n",
       "⎢a⎥\n",
       "⎢ ⎥\n",
       "⎣b⎦"
      ]
     },
     "execution_count": 5,
     "metadata": {},
     "output_type": "execute_result"
    }
   ],
   "source": [
    "# ideal points represent pure directions or points on the horizon\n",
    "idealpoint = lambda a, b: Matrix([[0],[a],[b]])\n",
    "idealpoint(a,b)"
   ]
  },
  {
   "cell_type": "code",
   "execution_count": 6,
   "id": "23e062cb",
   "metadata": {},
   "outputs": [],
   "source": [
    "# normalize point or ideal point\n",
    "def normalize(p):\n",
    "    if p[0,0] == 0: # \"ideal\" points normalize to direction cosines\n",
    "        return p/sqrt(p[1,0]**2 + p[2,0]**2)\n",
    "    else: # real points\n",
    "        return p/p[0,0]"
   ]
  },
  {
   "cell_type": "code",
   "execution_count": 7,
   "id": "19682d72",
   "metadata": {},
   "outputs": [
    {
     "data": {
      "image/png": "[encoded data removed]",
      "text/latex": [
       "$\\displaystyle \\left[\\begin{matrix}1\\\\\\frac{1}{x}\\\\0\\end{matrix}\\right]$"
      ],
      "text/plain": [
       "⎡1⎤\n",
       "⎢ ⎥\n",
       "⎢1⎥\n",
       "⎢─⎥\n",
       "⎢x⎥\n",
       "⎢ ⎥\n",
       "⎣0⎦"
      ]
     },
     "execution_count": 7,
     "metadata": {},
     "output_type": "execute_result"
    }
   ],
   "source": [
    "normalize(Matrix([[x],[1],[0]]))"
   ]
  },
  {
   "cell_type": "code",
   "execution_count": 8,
   "id": "ab20f16b",
   "metadata": {},
   "outputs": [
    {
     "data": {
      "image/png": "[encoded data removed]",
      "text/latex": [
       "$\\displaystyle \\left[\\begin{matrix}0\\\\\\frac{3}{5}\\\\\\frac{4}{5}\\end{matrix}\\right]$"
      ],
      "text/plain": [
       "⎡ 0 ⎤\n",
       "⎢   ⎥\n",
       "⎢3/5⎥\n",
       "⎢   ⎥\n",
       "⎣4/5⎦"
      ]
     },
     "execution_count": 8,
     "metadata": {},
     "output_type": "execute_result"
    }
   ],
   "source": [
    "normalize(Matrix([[0],[3],[4]]))"
   ]
  },
  {
   "cell_type": "code",
   "execution_count": 9,
   "id": "6873a502",
   "metadata": {},
   "outputs": [
    {
     "data": {
      "image/png": "[encoded data removed]",
      "text/latex": [
       "$\\displaystyle \\left[\\begin{matrix}\\frac{c}{\\sqrt{a^{2} + b^{2}}}\\\\\\frac{a}{\\sqrt{a^{2} + b^{2}}}\\\\\\frac{b}{\\sqrt{a^{2} + b^{2}}}\\end{matrix}\\right]$"
      ],
      "text/plain": [
       "⎡     c      ⎤\n",
       "⎢────────────⎥\n",
       "⎢   _________⎥\n",
       "⎢  ╱  2    2 ⎥\n",
       "⎢╲╱  a  + b  ⎥\n",
       "⎢            ⎥\n",
       "⎢     a      ⎥\n",
       "⎢────────────⎥\n",
       "⎢   _________⎥\n",
       "⎢  ╱  2    2 ⎥\n",
       "⎢╲╱  a  + b  ⎥\n",
       "⎢            ⎥\n",
       "⎢     b      ⎥\n",
       "⎢────────────⎥\n",
       "⎢   _________⎥\n",
       "⎢  ╱  2    2 ⎥\n",
       "⎣╲╱  a  + b  ⎦"
      ]
     },
     "execution_count": 9,
     "metadata": {},
     "output_type": "execute_result"
    }
   ],
   "source": [
    "# normalize ray\n",
    "# this makes the a and b coefficients the direction cosines and c the distance of the ray from the origin\n",
    "def normalize_ray(r):\n",
    "    return r/sqrt(r[1,0]**2 + r[2,0]**2)\n",
    "normalize_ray(Matrix([[c],[a],[b]]))"
   ]
  },
  {
   "cell_type": "code",
   "execution_count": 10,
   "id": "af185807",
   "metadata": {},
   "outputs": [
    {
     "data": {
      "image/png": "[encoded data removed]",
      "text/latex": [
       "$\\displaystyle \\left[\\begin{matrix}\\frac{c}{\\left|{b}\\right|}\\\\\\frac{a}{\\left|{b}\\right|}\\\\\\frac{b}{\\left|{b}\\right|}\\end{matrix}\\right]$"
      ],
      "text/plain": [
       "⎡ c ⎤\n",
       "⎢───⎥\n",
       "⎢│b│⎥\n",
       "⎢   ⎥\n",
       "⎢ a ⎥\n",
       "⎢───⎥\n",
       "⎢│b│⎥\n",
       "⎢   ⎥\n",
       "⎢ b ⎥\n",
       "⎢───⎥\n",
       "⎣│b│⎦"
      ]
     },
     "execution_count": 10,
     "metadata": {},
     "output_type": "execute_result"
    }
   ],
   "source": [
    "# standardize ray\n",
    "# puts the ray into point-slope form, like the ray defined at the top of this section\n",
    "def standardize_ray(r):\n",
    "    return r/abs(r[2,0]) # using absolute value to preserve orientation\n",
    "standardize_ray(Matrix([[c],[a],[b]]))"
   ]
  },
  {
   "cell_type": "markdown",
   "id": "e796bd5c",
   "metadata": {},
   "source": [
    "## Definitions of ray transfer matrices\n",
    "From Section 3 and Table 1"
   ]
  },
  {
   "cell_type": "code",
   "execution_count": 11,
   "id": "54d45b2d",
   "metadata": {},
   "outputs": [
    {
     "data": {
      "image/png": "[encoded data removed]",
      "text/latex": [
       "$\\displaystyle \\left[\\begin{matrix}A & B & 0\\\\C & D & 0\\\\0 & 0 & 1\\end{matrix}\\right]$"
      ],
      "text/plain": [
       "⎡A  B  0⎤\n",
       "⎢       ⎥\n",
       "⎢C  D  0⎥\n",
       "⎢       ⎥\n",
       "⎣0  0  1⎦"
      ]
     },
     "execution_count": 11,
     "metadata": {},
     "output_type": "execute_result"
    }
   ],
   "source": [
    "# Standard ABCD matrix\n",
    "M = Matrix([[A, B, 0],[C, D, 0],[0,0,1]])\n",
    "M"
   ]
  },
  {
   "cell_type": "code",
   "execution_count": 12,
   "id": "93afc045",
   "metadata": {},
   "outputs": [
    {
     "data": {
      "image/png": "[encoded data removed]",
      "text/latex": [
       "$\\displaystyle \\left[\\begin{matrix}1 & 0 & 0\\\\- \\frac{1}{f} & 1 & 0\\\\0 & 0 & 1\\end{matrix}\\right]$"
      ],
      "text/plain": [
       "⎡ 1   0  0⎤\n",
       "⎢         ⎥\n",
       "⎢-1       ⎥\n",
       "⎢───  1  0⎥\n",
       "⎢ f       ⎥\n",
       "⎢         ⎥\n",
       "⎣ 0   0  1⎦"
      ]
     },
     "execution_count": 12,
     "metadata": {},
     "output_type": "execute_result"
    }
   ],
   "source": [
    "# thin lens\n",
    "Mlens = lambda f: Matrix([[1, 0, 0],[-1/f,1,0],[0,0,1]])\n",
    "Mlens(f)"
   ]
  },
  {
   "cell_type": "code",
   "execution_count": 13,
   "id": "cc883737",
   "metadata": {},
   "outputs": [
    {
     "data": {
      "image/png": "[encoded data removed]",
      "text/latex": [
       "$\\displaystyle \\left[\\begin{matrix}1 & d & 0\\\\0 & 1 & 0\\\\0 & 0 & 1\\end{matrix}\\right]$"
      ],
      "text/plain": [
       "⎡1  d  0⎤\n",
       "⎢       ⎥\n",
       "⎢0  1  0⎥\n",
       "⎢       ⎥\n",
       "⎣0  0  1⎦"
      ]
     },
     "execution_count": 13,
     "metadata": {},
     "output_type": "execute_result"
    }
   ],
   "source": [
    "# propagation\n",
    "Mprop = lambda d: Matrix([[1,d,0],[0,1,0],[0,0,1]])\n",
    "Mprop(d)"
   ]
  },
  {
   "cell_type": "code",
   "execution_count": 14,
   "id": "43539503",
   "metadata": {},
   "outputs": [
    {
     "data": {
      "image/png": "[encoded data removed]",
      "text/latex": [
       "$\\displaystyle \\left[\\begin{matrix}1 & 0 & 0\\\\0 & \\frac{n_{1}}{n_{2}} & 0\\\\0 & 0 & 1\\end{matrix}\\right]$"
      ],
      "text/plain": [
       "⎡1  0   0⎤\n",
       "⎢        ⎥\n",
       "⎢   n₁   ⎥\n",
       "⎢0  ──  0⎥\n",
       "⎢   n₂   ⎥\n",
       "⎢        ⎥\n",
       "⎣0  0   1⎦"
      ]
     },
     "execution_count": 14,
     "metadata": {},
     "output_type": "execute_result"
    }
   ],
   "source": [
    "# plane refraction\n",
    "Msnell = lambda n1, n2: Matrix([[1,0,0],[0,n1/n2,0],[0,0,1]])\n",
    "Msnell(n1,n2)"
   ]
  },
  {
   "cell_type": "code",
   "execution_count": 15,
   "id": "d16b827c",
   "metadata": {},
   "outputs": [
    {
     "data": {
      "image/png": "[encoded data removed]",
      "text/latex": [
       "$\\displaystyle \\left[\\begin{matrix}1 & 0 & 0\\\\\\frac{n_{1} - n_{2}}{R n_{2}} & \\frac{n_{1}}{n_{2}} & 0\\\\0 & 0 & 1\\end{matrix}\\right]$"
      ],
      "text/plain": [
       "⎡   1     0   0⎤\n",
       "⎢              ⎥\n",
       "⎢n₁ - n₂  n₁   ⎥\n",
       "⎢───────  ──  0⎥\n",
       "⎢  R⋅n₂   n₂   ⎥\n",
       "⎢              ⎥\n",
       "⎣   0     0   1⎦"
      ]
     },
     "execution_count": 15,
     "metadata": {},
     "output_type": "execute_result"
    }
   ],
   "source": [
    "# spherical refraction (R>0 for convex)\n",
    "Msphr = lambda n1, n2, R: Matrix([[1,0,0],[(n1-n2)/R/n2, n1/n2, 0],[0,0,1]])\n",
    "Msphr(n1,n2,R)"
   ]
  },
  {
   "cell_type": "code",
   "execution_count": 16,
   "id": "8be09663",
   "metadata": {},
   "outputs": [
    {
     "data": {
      "image/png": "[encoded data removed]",
      "text/latex": [
       "$\\displaystyle \\left[\\begin{matrix}-1 & 0 & 0\\\\0 & 1 & 0\\\\0 & 0 & -1\\end{matrix}\\right]$"
      ],
      "text/plain": [
       "⎡-1  0  0 ⎤\n",
       "⎢         ⎥\n",
       "⎢0   1  0 ⎥\n",
       "⎢         ⎥\n",
       "⎣0   0  -1⎦"
      ]
     },
     "execution_count": 16,
     "metadata": {},
     "output_type": "execute_result"
    }
   ],
   "source": [
    "# plane mirror\n",
    "Mmirror = Matrix([[-1,0,0],[0,1,0],[0,0,-1]])\n",
    "Mmirror"
   ]
  },
  {
   "cell_type": "code",
   "execution_count": 17,
   "id": "d2ab8ae5",
   "metadata": {},
   "outputs": [
    {
     "data": {
      "image/png": "[encoded data removed]",
      "text/latex": [
       "$\\displaystyle \\left[\\begin{matrix}-1 & 0 & 0\\\\\\frac{2}{R} & 1 & 0\\\\0 & 0 & -1\\end{matrix}\\right]$"
      ],
      "text/plain": [
       "⎡-1  0  0 ⎤\n",
       "⎢         ⎥\n",
       "⎢2        ⎥\n",
       "⎢─   1  0 ⎥\n",
       "⎢R        ⎥\n",
       "⎢         ⎥\n",
       "⎣0   0  -1⎦"
      ]
     },
     "execution_count": 17,
     "metadata": {},
     "output_type": "execute_result"
    }
   ],
   "source": [
    "# spherical mirror (R>0 is convex)\n",
    "Msphm = lambda R: Matrix([[-1, 0, 0],[2/R,1,0],[0,0,-1]])\n",
    "Msphm(R)"
   ]
  },
  {
   "cell_type": "markdown",
   "id": "6b9a710e",
   "metadata": {},
   "source": [
    "## Definition of matrix adjugate\n",
    "From Section 6 and the Supplemental Materials"
   ]
  },
  {
   "cell_type": "code",
   "execution_count": 18,
   "id": "ef6aa57f",
   "metadata": {},
   "outputs": [],
   "source": [
    "# matrix adjugate (this will fail in the unphysical case det(x)=0 )\n",
    "# TODO handle exceptional case when det(x)=0 by performing cofactor expansion\n",
    "adj = lambda x: x.det()*(x.inv().T)"
   ]
  },
  {
   "cell_type": "code",
   "execution_count": 19,
   "id": "f1f7ff2b",
   "metadata": {},
   "outputs": [
    {
     "data": {
      "image/png": "[encoded data removed]",
      "text/latex": [
       "$\\displaystyle \\left[\\begin{matrix}D & - C & 0\\\\- B & A & 0\\\\0 & 0 & A D - B C\\end{matrix}\\right]$"
      ],
      "text/plain": [
       "⎡D   -C      0    ⎤\n",
       "⎢                 ⎥\n",
       "⎢-B  A       0    ⎥\n",
       "⎢                 ⎥\n",
       "⎣0   0   A⋅D - B⋅C⎦"
      ]
     },
     "metadata": {},
     "output_type": "display_data"
    },
    {
     "data": {
      "image/png": "[encoded data removed]",
      "text/latex": [
       "$\\displaystyle \\left[\\begin{matrix}-1 & \\frac{2}{R} & 0\\\\0 & 1 & 0\\\\0 & 0 & -1\\end{matrix}\\right]$"
      ],
      "text/plain": [
       "⎡    2    ⎤\n",
       "⎢-1  ─  0 ⎥\n",
       "⎢    R    ⎥\n",
       "⎢         ⎥\n",
       "⎢0   1  0 ⎥\n",
       "⎢         ⎥\n",
       "⎣0   0  -1⎦"
      ]
     },
     "metadata": {},
     "output_type": "display_data"
    },
    {
     "data": {
      "image/png": "[encoded data removed]",
      "text/latex": [
       "$\\displaystyle \\left[\\begin{matrix}\\frac{n_{1}}{n_{2}} & 0 & 0\\\\0 & 1 & 0\\\\0 & 0 & \\frac{n_{1}}{n_{2}}\\end{matrix}\\right]$"
      ],
      "text/plain": [
       "⎡n₁       ⎤\n",
       "⎢──  0  0 ⎥\n",
       "⎢n₂       ⎥\n",
       "⎢         ⎥\n",
       "⎢0   1  0 ⎥\n",
       "⎢         ⎥\n",
       "⎢       n₁⎥\n",
       "⎢0   0  ──⎥\n",
       "⎣       n₂⎦"
      ]
     },
     "metadata": {},
     "output_type": "display_data"
    },
    {
     "data": {
      "image/png": "[encoded data removed]",
      "text/latex": [
       "$\\displaystyle \\left[\\begin{matrix}\\frac{n_{1}}{n_{2}} & \\frac{n_{1} \\left(- \\frac{1}{R} + \\frac{n_{2}}{R n_{1}}\\right)}{n_{2}} & 0\\\\0 & 1 & 0\\\\0 & 0 & \\frac{n_{1}}{n_{2}}\\end{matrix}\\right]$"
      ],
      "text/plain": [
       "⎡       ⎛  1    n₂ ⎞    ⎤\n",
       "⎢    n₁⋅⎜- ─ + ────⎟    ⎥\n",
       "⎢n₁     ⎝  R   R⋅n₁⎠    ⎥\n",
       "⎢──  ───────────────  0 ⎥\n",
       "⎢n₂         n₂          ⎥\n",
       "⎢                       ⎥\n",
       "⎢0          1         0 ⎥\n",
       "⎢                       ⎥\n",
       "⎢                     n₁⎥\n",
       "⎢0          0         ──⎥\n",
       "⎣                     n₂⎦"
      ]
     },
     "metadata": {},
     "output_type": "display_data"
    }
   ],
   "source": [
    "# Some examples: general ABCD, spherical mirror, refracting plane surface, refracting spherical surface\n",
    "for thisM in [M,Msphm(R),Msnell(n1,n2),Msphr(n1,n2,R)]:\n",
    "    display(adj(thisM))"
   ]
  },
  {
   "cell_type": "markdown",
   "id": "a5afd1ce",
   "metadata": {},
   "source": [
    "## Coordinate transformations\n",
    "Section 4"
   ]
  },
  {
   "cell_type": "code",
   "execution_count": 20,
   "id": "1582a42a",
   "metadata": {},
   "outputs": [
    {
     "data": {
      "image/png": "[encoded data removed]",
      "text/latex": [
       "$\\displaystyle \\left[\\begin{matrix}1 & 0 & 0\\\\0 & \\cos{\\left(u \\right)} & - \\sin{\\left(u \\right)}\\\\0 & \\sin{\\left(u \\right)} & \\cos{\\left(u \\right)}\\end{matrix}\\right]$"
      ],
      "text/plain": [
       "⎡1    0        0   ⎤\n",
       "⎢                  ⎥\n",
       "⎢0  cos(u)  -sin(u)⎥\n",
       "⎢                  ⎥\n",
       "⎣0  sin(u)  cos(u) ⎦"
      ]
     },
     "execution_count": 20,
     "metadata": {},
     "output_type": "execute_result"
    }
   ],
   "source": [
    "# Rotation of a ray\n",
    "Rot = lambda u: Matrix([[1,0,0],[0,cos(u),-sin(u)],[0,sin(u),cos(u)]])\n",
    "Rot(u)"
   ]
  },
  {
   "cell_type": "code",
   "execution_count": 21,
   "id": "6cd56b61",
   "metadata": {},
   "outputs": [
    {
     "data": {
      "image/png": "[encoded data removed]",
      "text/latex": [
       "$\\displaystyle \\left[\\begin{matrix}1 & - u & - v\\\\0 & 1 & 0\\\\0 & 0 & 1\\end{matrix}\\right]$"
      ],
      "text/plain": [
       "⎡1  -u  -v⎤\n",
       "⎢         ⎥\n",
       "⎢0  1   0 ⎥\n",
       "⎢         ⎥\n",
       "⎣0  0   1 ⎦"
      ]
     },
     "execution_count": 21,
     "metadata": {},
     "output_type": "execute_result"
    }
   ],
   "source": [
    "# Translation of a ray\n",
    "T = lambda u, v: Matrix([[1,-u,-v],[0,1,0],[0,0,1]])\n",
    "T(u,v)"
   ]
  },
  {
   "cell_type": "code",
   "execution_count": 22,
   "id": "2b62ea96",
   "metadata": {},
   "outputs": [
    {
     "data": {
      "image/png": "[encoded data removed]",
      "text/latex": [
       "$\\displaystyle \\left[\\begin{matrix}- h\\\\- m \\cos{\\left(u \\right)} - \\sin{\\left(u \\right)}\\\\- m \\sin{\\left(u \\right)} + \\cos{\\left(u \\right)}\\end{matrix}\\right]$"
      ],
      "text/plain": [
       "⎡        -h        ⎤\n",
       "⎢                  ⎥\n",
       "⎢-m⋅cos(u) - sin(u)⎥\n",
       "⎢                  ⎥\n",
       "⎣-m⋅sin(u) + cos(u)⎦"
      ]
     },
     "execution_count": 22,
     "metadata": {},
     "output_type": "execute_result"
    }
   ],
   "source": [
    "# Check: Rotate a ray by angle u\n",
    "Rot(u)*ray(h,m)"
   ]
  },
  {
   "cell_type": "code",
   "execution_count": 23,
   "id": "2afd1ae1",
   "metadata": {},
   "outputs": [
    {
     "data": {
      "image/png": "[encoded data removed]",
      "text/latex": [
       "$\\displaystyle \\left[\\begin{matrix}- h + m u - v\\\\- m\\\\1\\end{matrix}\\right]$"
      ],
      "text/plain": [
       "⎡-h + m⋅u - v⎤\n",
       "⎢            ⎥\n",
       "⎢     -m     ⎥\n",
       "⎢            ⎥\n",
       "⎣     1      ⎦"
      ]
     },
     "execution_count": 23,
     "metadata": {},
     "output_type": "execute_result"
    }
   ],
   "source": [
    "# Check: Translate a ray by displacement (u, v)\n",
    "T(u,v)*ray(h,m)"
   ]
  },
  {
   "cell_type": "markdown",
   "id": "0f782b11",
   "metadata": {},
   "source": [
    "### Coordinate transformations of points"
   ]
  },
  {
   "cell_type": "code",
   "execution_count": 24,
   "id": "26d6d8e7",
   "metadata": {},
   "outputs": [
    {
     "data": {
      "image/png": "[encoded data removed]",
      "text/latex": [
       "$\\displaystyle \\left[\\begin{matrix}1 & 0 & 0\\\\0 & \\cos{\\left(u \\right)} & - \\sin{\\left(u \\right)}\\\\0 & \\sin{\\left(u \\right)} & \\cos{\\left(u \\right)}\\end{matrix}\\right]$"
      ],
      "text/plain": [
       "⎡1    0        0   ⎤\n",
       "⎢                  ⎥\n",
       "⎢0  cos(u)  -sin(u)⎥\n",
       "⎢                  ⎥\n",
       "⎣0  sin(u)  cos(u) ⎦"
      ]
     },
     "execution_count": 24,
     "metadata": {},
     "output_type": "execute_result"
    }
   ],
   "source": [
    "# Rotation operator for points\n",
    "simplify(adj(Rot(u)))"
   ]
  },
  {
   "cell_type": "code",
   "execution_count": 25,
   "id": "91bb846b",
   "metadata": {},
   "outputs": [
    {
     "data": {
      "image/png": "[encoded data removed]",
      "text/latex": [
       "$\\displaystyle \\left[\\begin{matrix}1 & 0 & 0\\\\u & 1 & 0\\\\v & 0 & 1\\end{matrix}\\right]$"
      ],
      "text/plain": [
       "⎡1  0  0⎤\n",
       "⎢       ⎥\n",
       "⎢u  1  0⎥\n",
       "⎢       ⎥\n",
       "⎣v  0  1⎦"
      ]
     },
     "execution_count": 25,
     "metadata": {},
     "output_type": "execute_result"
    }
   ],
   "source": [
    "# Translation operator for points\n",
    "simplify(adj(T(u,v)))"
   ]
  },
  {
   "cell_type": "code",
   "execution_count": 26,
   "id": "f55b5f34",
   "metadata": {},
   "outputs": [
    {
     "data": {
      "image/png": "[encoded data removed]",
      "text/latex": [
       "$\\displaystyle \\left[\\begin{matrix}1\\\\x \\cos{\\left(u \\right)} - y \\sin{\\left(u \\right)}\\\\x \\sin{\\left(u \\right)} + y \\cos{\\left(u \\right)}\\end{matrix}\\right]$"
      ],
      "text/plain": [
       "⎡         1         ⎤\n",
       "⎢                   ⎥\n",
       "⎢x⋅cos(u) - y⋅sin(u)⎥\n",
       "⎢                   ⎥\n",
       "⎣x⋅sin(u) + y⋅cos(u)⎦"
      ]
     },
     "execution_count": 26,
     "metadata": {},
     "output_type": "execute_result"
    }
   ],
   "source": [
    "# Check: rotate a point\n",
    "simplify(adj(Rot(u)))*point(x,y)"
   ]
  },
  {
   "cell_type": "code",
   "execution_count": 27,
   "id": "ca54f504",
   "metadata": {},
   "outputs": [
    {
     "data": {
      "image/png": "[encoded data removed]",
      "text/latex": [
       "$\\displaystyle \\left[\\begin{matrix}1\\\\u + x\\\\v + y\\end{matrix}\\right]$"
      ],
      "text/plain": [
       "⎡  1  ⎤\n",
       "⎢     ⎥\n",
       "⎢u + x⎥\n",
       "⎢     ⎥\n",
       "⎣v + y⎦"
      ]
     },
     "execution_count": 27,
     "metadata": {},
     "output_type": "execute_result"
    }
   ],
   "source": [
    "# Check: translate a point\n",
    "simplify(adj(T(u,v)))*point(x,y)"
   ]
  },
  {
   "cell_type": "markdown",
   "id": "410af000",
   "metadata": {},
   "source": [
    "### Other definitions of rotation\n",
    "Other authors (e.g. Gerrard and J. M. Burch, _Introduction to matrix methods in optics_ (Dover, New York, 1994), 355 pp., ISBN:\n",
    "978-0-486-68044-6, and those that follow Gerrard) define a different rotation matrix with the caveat that it only works for small rotation angles.  Let's look at this matrix to see what it does to our rays and points."
   ]
  },
  {
   "cell_type": "code",
   "execution_count": 28,
   "id": "63f117a2",
   "metadata": {},
   "outputs": [
    {
     "data": {
      "image/png": "[encoded data removed]",
      "text/latex": [
       "$\\displaystyle \\left[\\begin{matrix}1 & 0 & 0\\\\0 & 1 & - u\\\\0 & 0 & 1\\end{matrix}\\right]$"
      ],
      "text/plain": [
       "⎡1  0  0 ⎤\n",
       "⎢        ⎥\n",
       "⎢0  1  -u⎥\n",
       "⎢        ⎥\n",
       "⎣0  0  1 ⎦"
      ]
     },
     "execution_count": 28,
     "metadata": {},
     "output_type": "execute_result"
    }
   ],
   "source": [
    "#The rotation matrix used in Gerrard\n",
    "R_G = lambda u: Matrix([[1,0,0],[0,1,-u],[0,0,1]])\n",
    "R_G(u)"
   ]
  },
  {
   "cell_type": "code",
   "execution_count": 29,
   "id": "d3cd4237",
   "metadata": {},
   "outputs": [
    {
     "data": {
      "image/png": "[encoded data removed]",
      "text/latex": [
       "$\\displaystyle \\left[\\begin{matrix}- h\\\\- m - u\\\\1\\end{matrix}\\right]$"
      ],
      "text/plain": [
       "⎡  -h  ⎤\n",
       "⎢      ⎥\n",
       "⎢-m - u⎥\n",
       "⎢      ⎥\n",
       "⎣  1   ⎦"
      ]
     },
     "execution_count": 29,
     "metadata": {},
     "output_type": "execute_result"
    }
   ],
   "source": [
    "# Gerrards \"rotation\" on a ray\n",
    "R_G(u)*ray(h,m)"
   ]
  },
  {
   "cell_type": "markdown",
   "id": "b6d6c2f1",
   "metadata": {},
   "source": [
    "We see that Gerrard's operator increases the slope of a ray by an amount _u_, but does not change the _y_-intercept of the ray.  This isn't really a rotation.  Let's look at a point to get a better picture:"
   ]
  },
  {
   "cell_type": "code",
   "execution_count": 30,
   "id": "bc4be9e8",
   "metadata": {},
   "outputs": [
    {
     "data": {
      "image/png": "[encoded data removed]",
      "text/latex": [
       "$\\displaystyle \\left[\\begin{matrix}1 & 0 & 0\\\\0 & 1 & 0\\\\0 & u & 1\\end{matrix}\\right]$"
      ],
      "text/plain": [
       "⎡1  0  0⎤\n",
       "⎢       ⎥\n",
       "⎢0  1  0⎥\n",
       "⎢       ⎥\n",
       "⎣0  u  1⎦"
      ]
     },
     "execution_count": 30,
     "metadata": {},
     "output_type": "execute_result"
    }
   ],
   "source": [
    "# Point operator for Gerrards \"rotation\"\n",
    "simplify(adj(R_G(u)))"
   ]
  },
  {
   "cell_type": "code",
   "execution_count": 31,
   "id": "6f3be678",
   "metadata": {},
   "outputs": [
    {
     "data": {
      "image/png": "[encoded data removed]",
      "text/latex": [
       "$\\displaystyle \\left[\\begin{matrix}1\\\\x\\\\u x + y\\end{matrix}\\right]$"
      ],
      "text/plain": [
       "⎡   1   ⎤\n",
       "⎢       ⎥\n",
       "⎢   x   ⎥\n",
       "⎢       ⎥\n",
       "⎣u⋅x + y⎦"
      ]
     },
     "execution_count": 31,
     "metadata": {},
     "output_type": "execute_result"
    }
   ],
   "source": [
    "# Gerrards \"rotation\" on a point\n",
    "simplify(adj(R_G(u)))*point(x,y)"
   ]
  },
  {
   "cell_type": "markdown",
   "id": "01710e72",
   "metadata": {},
   "source": [
    "We see that Gerrard's operator causes a vertical shift of size that depends on the _x_ position.  Check for example, the four corners of a square.  This transforms into a parallelogram.  In other words, the operator is a _shear_."
   ]
  },
  {
   "cell_type": "markdown",
   "id": "d801a9a5",
   "metadata": {},
   "source": [
    "## Examples\n",
    "These are the examples given in the main text, showing how to use the definitions above."
   ]
  },
  {
   "cell_type": "markdown",
   "id": "401543c6",
   "metadata": {},
   "source": [
    "### Example 4.1\n",
    "Tilted window"
   ]
  },
  {
   "cell_type": "code",
   "execution_count": 32,
   "id": "a727ad96",
   "metadata": {},
   "outputs": [
    {
     "data": {
      "image/png": "[encoded data removed]",
      "text/latex": [
       "$\\displaystyle \\left[\\begin{matrix}1 & - \\frac{d \\left(n_{1} - 1\\right) \\cos{\\left(u \\right)}}{n_{1}} & \\frac{d \\left(1 - n_{1}\\right) \\sin{\\left(u \\right)}}{n_{1}}\\\\0 & 1 & 0\\\\0 & 0 & 1\\end{matrix}\\right]$"
      ],
      "text/plain": [
       "⎡   -d⋅(n₁ - 1)⋅cos(u)   d⋅(1 - n₁)⋅sin(u)⎤\n",
       "⎢1  ───────────────────  ─────────────────⎥\n",
       "⎢            n₁                  n₁       ⎥\n",
       "⎢                                         ⎥\n",
       "⎢0           1                   0        ⎥\n",
       "⎢                                         ⎥\n",
       "⎣0           0                   1        ⎦"
      ]
     },
     "execution_count": 32,
     "metadata": {},
     "output_type": "execute_result"
    }
   ],
   "source": [
    "M4p1 = simplify(Rot(u)*T(d,0)*Msnell(n1,1)*(T(d,0).inv())*Msnell(1,n1)*(Rot(u).inv()))\n",
    "M4p1"
   ]
  },
  {
   "cell_type": "markdown",
   "id": "5a53215f",
   "metadata": {},
   "source": [
    "Whenever we have refraction, we have to confine our calculation to rays close to the (local) optical axis.  This is because we're using a linear approximation to Snell's Law. In the tilted window example, we have to keep the tilt angle small.  The expressions become clearer if we do a linear approximation to our matrix elements."
   ]
  },
  {
   "cell_type": "code",
   "execution_count": 33,
   "id": "bea74567",
   "metadata": {},
   "outputs": [
    {
     "data": {
      "image/png": "[encoded data removed]",
      "text/latex": [
       "$\\displaystyle \\left[\\begin{matrix}1 & - d + \\frac{d}{n_{1}} & u \\left(- d + \\frac{d}{n_{1}}\\right)\\\\0 & 1 & 0\\\\0 & 0 & 1\\end{matrix}\\right]$"
      ],
      "text/plain": [
       "⎡        d     ⎛     d ⎞⎤\n",
       "⎢1  -d + ──  u⋅⎜-d + ──⎟⎥\n",
       "⎢        n₁    ⎝     n₁⎠⎥\n",
       "⎢                       ⎥\n",
       "⎢0     1          0     ⎥\n",
       "⎢                       ⎥\n",
       "⎣0     0          1     ⎦"
      ]
     },
     "execution_count": 33,
     "metadata": {},
     "output_type": "execute_result"
    }
   ],
   "source": [
    "# small u approximation\n",
    "M4p1linear = M4p1.applyfunc(lambda a: series(a, x=u, x0=0, n=2).removeO())\n",
    "M4p1linear"
   ]
  },
  {
   "cell_type": "code",
   "execution_count": 34,
   "id": "134c42e5",
   "metadata": {},
   "outputs": [
    {
     "data": {
      "image/png": "[encoded data removed]",
      "text/latex": [
       "$\\displaystyle \\left[\\begin{matrix}u \\left(- d + \\frac{d}{n_{1}}\\right)\\\\0\\\\1\\end{matrix}\\right]$"
      ],
      "text/plain": [
       "⎡  ⎛     d ⎞⎤\n",
       "⎢u⋅⎜-d + ──⎟⎥\n",
       "⎢  ⎝     n₁⎠⎥\n",
       "⎢           ⎥\n",
       "⎢     0     ⎥\n",
       "⎢           ⎥\n",
       "⎣     1     ⎦"
      ]
     },
     "execution_count": 34,
     "metadata": {},
     "output_type": "execute_result"
    }
   ],
   "source": [
    "# The incoming ray (along the _x_-axis) becomes\n",
    "M4p1linear*ray(0,0)"
   ]
  },
  {
   "cell_type": "code",
   "execution_count": 35,
   "id": "4b198854",
   "metadata": {},
   "outputs": [],
   "source": [
    "up = symbols(\"up\", real=True) # u prime"
   ]
  },
  {
   "cell_type": "markdown",
   "id": "ed3e4118",
   "metadata": {},
   "source": [
    "The exact solution to the tilted window is shown in Pedrotti, problem 2-8.  The ray shifts vertically by an amount"
   ]
  },
  {
   "cell_type": "code",
   "execution_count": 36,
   "id": "1cad8840",
   "metadata": {},
   "outputs": [
    {
     "data": {
      "image/png": "[encoded data removed]",
      "text/latex": [
       "$\\displaystyle \\frac{d \\sin{\\left(u - \\operatorname{asin}{\\left(\\sin{\\left(\\frac{u}{n_{1}} \\right)} \\right)} \\right)}}{\\sqrt{1 - \\sin^{2}{\\left(\\frac{u}{n_{1}} \\right)}}}$"
      ],
      "text/plain": [
       "     ⎛        ⎛   ⎛u ⎞⎞⎞\n",
       "d⋅sin⎜u - asin⎜sin⎜──⎟⎟⎟\n",
       "     ⎝        ⎝   ⎝n₁⎠⎠⎠\n",
       "────────────────────────\n",
       "       ______________   \n",
       "      ╱        2⎛u ⎞    \n",
       "     ╱  1 - sin ⎜──⎟    \n",
       "   ╲╱           ⎝n₁⎠    "
      ]
     },
     "execution_count": 36,
     "metadata": {},
     "output_type": "execute_result"
    }
   ],
   "source": [
    "ytest = (d*sin(u-up)/cos(up)).subs(up, asin(sin(u/n1)))\n",
    "ytest"
   ]
  },
  {
   "cell_type": "markdown",
   "id": "a7d7dee5",
   "metadata": {},
   "source": [
    "We need to linearize this to compare with our solution."
   ]
  },
  {
   "cell_type": "code",
   "execution_count": 37,
   "id": "d7b4cb04",
   "metadata": {},
   "outputs": [
    {
     "data": {
      "image/png": "[encoded data removed]",
      "text/latex": [
       "$\\displaystyle u^{3} \\left(\\frac{d}{2 n_{1}^{2}} + \\frac{d \\left(1 - n_{1}\\right)^{3}}{6 n_{1}^{3}} - \\frac{d}{2 n_{1}^{3}}\\right) + u \\left(d - \\frac{d}{n_{1}}\\right)$"
      ],
      "text/plain": [
       "   ⎛                  3        ⎞             \n",
       " 3 ⎜  d     d⋅(1 - n₁)      d  ⎟     ⎛    d ⎞\n",
       "u ⋅⎜───── + ─────────── - ─────⎟ + u⋅⎜d - ──⎟\n",
       "   ⎜    2          3          3⎟     ⎝    n₁⎠\n",
       "   ⎝2⋅n₁       6⋅n₁       2⋅n₁ ⎠             "
      ]
     },
     "execution_count": 37,
     "metadata": {},
     "output_type": "execute_result"
    }
   ],
   "source": [
    "# approximate arcsin with 3rd-order Taylor series, then get the series expansion for ytest\n",
    "(d*sin(u-up)/cos(up)).subs(up, (sin(u/n1))+(sin(u/n1))**3/6).series(x=u,x0=0,n=4).removeO()"
   ]
  },
  {
   "cell_type": "markdown",
   "id": "f791b329",
   "metadata": {},
   "source": [
    "Our solution is equal up to first order in the tilt angle _u_."
   ]
  },
  {
   "cell_type": "markdown",
   "id": "c08343a9",
   "metadata": {},
   "source": [
    "### Example 5.1\n",
    "Retroreflector"
   ]
  },
  {
   "cell_type": "markdown",
   "id": "8ea3e232",
   "metadata": {},
   "source": [
    "Two mirrors separated by an angle _u_, with intersection at the origin.  We'll consider an incoming ray parallel to the incoming optical axis and below it by a distance _h_."
   ]
  },
  {
   "cell_type": "code",
   "execution_count": 38,
   "id": "5893cb41",
   "metadata": {},
   "outputs": [
    {
     "data": {
      "image/png": "[encoded data removed]",
      "text/latex": [
       "$\\displaystyle \\left[\\begin{matrix}-1 & 0 & 0\\\\0 & 0 & 1\\\\0 & 1 & 0\\end{matrix}\\right]$"
      ],
      "text/plain": [
       "⎡-1  0  0⎤\n",
       "⎢        ⎥\n",
       "⎢0   0  1⎥\n",
       "⎢        ⎥\n",
       "⎣0   1  0⎦"
      ]
     },
     "execution_count": 38,
     "metadata": {},
     "output_type": "execute_result"
    }
   ],
   "source": [
    "# First mirror\n",
    "M1 = simplify(Rot(u/2)*Mmirror*Rot(-u/2))\n",
    "M1.subs(u,pi/2)"
   ]
  },
  {
   "cell_type": "code",
   "execution_count": 39,
   "id": "0edc0c33",
   "metadata": {},
   "outputs": [
    {
     "data": {
      "image/png": "[encoded data removed]",
      "text/latex": [
       "$\\displaystyle \\left[\\begin{matrix}-1 & 0 & 0\\\\0 & 0 & -1\\\\0 & -1 & 0\\end{matrix}\\right]$"
      ],
      "text/plain": [
       "⎡-1  0   0 ⎤\n",
       "⎢          ⎥\n",
       "⎢0   0   -1⎥\n",
       "⎢          ⎥\n",
       "⎣0   -1  0 ⎦"
      ]
     },
     "execution_count": 39,
     "metadata": {},
     "output_type": "execute_result"
    }
   ],
   "source": [
    "# Second mirror\n",
    "M2 = simplify(M1.subs(u,-u))\n",
    "M2.subs(u,pi/2)"
   ]
  },
  {
   "cell_type": "code",
   "execution_count": 40,
   "id": "61b79412",
   "metadata": {},
   "outputs": [
    {
     "data": {
      "image/png": "[encoded data removed]",
      "text/latex": [
       "$\\displaystyle \\left[\\begin{matrix}1 & 0 & 0\\\\0 & \\cos{\\left(2 u \\right)} & \\sin{\\left(2 u \\right)}\\\\0 & - \\sin{\\left(2 u \\right)} & \\cos{\\left(2 u \\right)}\\end{matrix}\\right]$"
      ],
      "text/plain": [
       "⎡1      0         0    ⎤\n",
       "⎢                      ⎥\n",
       "⎢0  cos(2⋅u)   sin(2⋅u)⎥\n",
       "⎢                      ⎥\n",
       "⎣0  -sin(2⋅u)  cos(2⋅u)⎦"
      ]
     },
     "execution_count": 40,
     "metadata": {},
     "output_type": "execute_result"
    }
   ],
   "source": [
    "# Both mirrors (note that order matters)\n",
    "simplify(M2*M1)"
   ]
  },
  {
   "cell_type": "code",
   "execution_count": 41,
   "id": "59f56145",
   "metadata": {},
   "outputs": [
    {
     "data": {
      "image/png": "[encoded data removed]",
      "text/latex": [
       "$\\displaystyle \\left[\\begin{matrix}1 & 0 & 0\\\\0 & -1 & 0\\\\0 & 0 & -1\\end{matrix}\\right]$"
      ],
      "text/plain": [
       "⎡1  0   0 ⎤\n",
       "⎢         ⎥\n",
       "⎢0  -1  0 ⎥\n",
       "⎢         ⎥\n",
       "⎣0  0   -1⎦"
      ]
     },
     "execution_count": 41,
     "metadata": {},
     "output_type": "execute_result"
    }
   ],
   "source": [
    "# right-angle case\n",
    "Mra=simplify((M2*M1).subs(u,pi/2)) \n",
    "Mra"
   ]
  },
  {
   "cell_type": "code",
   "execution_count": 42,
   "id": "a796d2d9",
   "metadata": {},
   "outputs": [
    {
     "data": {
      "image/png": "[encoded data removed]",
      "text/latex": [
       "$\\displaystyle \\left[\\begin{matrix}- h\\\\- m \\cos{\\left(2 u \\right)} + \\sin{\\left(2 u \\right)}\\\\m \\sin{\\left(2 u \\right)} + \\cos{\\left(2 u \\right)}\\end{matrix}\\right]$"
      ],
      "text/plain": [
       "⎡          -h          ⎤\n",
       "⎢                      ⎥\n",
       "⎢-m⋅cos(2⋅u) + sin(2⋅u)⎥\n",
       "⎢                      ⎥\n",
       "⎣m⋅sin(2⋅u) + cos(2⋅u) ⎦"
      ]
     },
     "execution_count": 42,
     "metadata": {},
     "output_type": "execute_result"
    }
   ],
   "source": [
    "# The effect on a ray\n",
    "simplify(M2*M1)*ray(h,m)"
   ]
  },
  {
   "cell_type": "code",
   "execution_count": 43,
   "id": "14ec9e89",
   "metadata": {},
   "outputs": [
    {
     "data": {
      "image/png": "[encoded data removed]",
      "text/latex": [
       "$\\displaystyle \\left[\\begin{matrix}- h\\\\m\\\\-1\\end{matrix}\\right]$"
      ],
      "text/plain": [
       "⎡-h⎤\n",
       "⎢  ⎥\n",
       "⎢m ⎥\n",
       "⎢  ⎥\n",
       "⎣-1⎦"
      ]
     },
     "execution_count": 43,
     "metadata": {},
     "output_type": "execute_result"
    }
   ],
   "source": [
    "# Check the right-angle case\n",
    "_.subs(u,pi/2)"
   ]
  },
  {
   "cell_type": "code",
   "execution_count": 44,
   "id": "44c5ead4",
   "metadata": {},
   "outputs": [
    {
     "data": {
      "image/png": "[encoded data removed]",
      "text/latex": [
       "$\\displaystyle \\left[\\begin{matrix}h\\\\1\\\\- m\\end{matrix}\\right]$"
      ],
      "text/plain": [
       "⎡h ⎤\n",
       "⎢  ⎥\n",
       "⎢1 ⎥\n",
       "⎢  ⎥\n",
       "⎣-m⎦"
      ]
     },
     "execution_count": 44,
     "metadata": {},
     "output_type": "execute_result"
    }
   ],
   "source": [
    "# after the first reflection (right angle case)\n",
    "M1.subs(u,pi/2)*ray(h,m)"
   ]
  },
  {
   "cell_type": "code",
   "execution_count": 45,
   "id": "6317ba39",
   "metadata": {},
   "outputs": [
    {
     "data": {
      "image/png": "[encoded data removed]",
      "text/latex": [
       "$\\displaystyle \\left[\\begin{matrix}- h\\\\m\\\\-1\\end{matrix}\\right]$"
      ],
      "text/plain": [
       "⎡-h⎤\n",
       "⎢  ⎥\n",
       "⎢m ⎥\n",
       "⎢  ⎥\n",
       "⎣-1⎦"
      ]
     },
     "execution_count": 45,
     "metadata": {},
     "output_type": "execute_result"
    }
   ],
   "source": [
    "# after the second reflection (right angle case)\n",
    "# This should agree with two lines above.\n",
    "(M2*M1).subs(u,pi/2)*ray(h,m)"
   ]
  },
  {
   "cell_type": "markdown",
   "id": "eff3d879",
   "metadata": {},
   "source": [
    "### Example point transfer matrices\n",
    "From Section 6"
   ]
  },
  {
   "cell_type": "code",
   "execution_count": 46,
   "id": "e1c0a58b",
   "metadata": {},
   "outputs": [
    {
     "data": {
      "image/png": "[encoded data removed]",
      "text/latex": [
       "$\\displaystyle \\left[\\begin{matrix}1 & \\frac{1}{f} & 0\\\\0 & 1 & 0\\\\0 & 0 & 1\\end{matrix}\\right]$"
      ],
      "text/plain": [
       "⎡   1   ⎤\n",
       "⎢1  ─  0⎥\n",
       "⎢   f   ⎥\n",
       "⎢       ⎥\n",
       "⎢0  1  0⎥\n",
       "⎢       ⎥\n",
       "⎣0  0  1⎦"
      ]
     },
     "execution_count": 46,
     "metadata": {},
     "output_type": "execute_result"
    }
   ],
   "source": [
    "# This lens point transfer matrix\n",
    "adj(Mlens(f))"
   ]
  },
  {
   "cell_type": "code",
   "execution_count": 47,
   "id": "52c8ca7f",
   "metadata": {},
   "outputs": [
    {
     "data": {
      "image/png": "[encoded data removed]",
      "text/latex": [
       "$\\displaystyle \\left[\\begin{matrix}1\\\\\\frac{x}{1 + \\frac{x}{f}}\\\\\\frac{y}{1 + \\frac{x}{f}}\\end{matrix}\\right]$"
      ],
      "text/plain": [
       "⎡  1  ⎤\n",
       "⎢     ⎥\n",
       "⎢  x  ⎥\n",
       "⎢─────⎥\n",
       "⎢    x⎥\n",
       "⎢1 + ─⎥\n",
       "⎢    f⎥\n",
       "⎢     ⎥\n",
       "⎢  y  ⎥\n",
       "⎢─────⎥\n",
       "⎢    x⎥\n",
       "⎢1 + ─⎥\n",
       "⎣    f⎦"
      ]
     },
     "execution_count": 47,
     "metadata": {},
     "output_type": "execute_result"
    }
   ],
   "source": [
    "# image point through thin lens.  We should get the Gaussian image equation as our result\n",
    "normalize(adj(Mlens(f))*point(x,y))"
   ]
  },
  {
   "cell_type": "markdown",
   "id": "43193578",
   "metadata": {},
   "source": [
    "### Example 7.2\n",
    "Imaging a distant object"
   ]
  },
  {
   "cell_type": "code",
   "execution_count": 48,
   "id": "3a0f464a",
   "metadata": {},
   "outputs": [
    {
     "data": {
      "image/png": "[encoded data removed]",
      "text/latex": [
       "$\\displaystyle \\left[\\begin{matrix}-0.02\\\\-1\\\\0.01\\end{matrix}\\right]$"
      ],
      "text/plain": [
       "⎡-0.02⎤\n",
       "⎢     ⎥\n",
       "⎢ -1  ⎥\n",
       "⎢     ⎥\n",
       "⎣0.01 ⎦"
      ]
     },
     "execution_count": 48,
     "metadata": {},
     "output_type": "execute_result"
    }
   ],
   "source": [
    "adj(Mlens(50.))*Matrix([[0],[-1],[0.01]])"
   ]
  },
  {
   "cell_type": "code",
   "execution_count": 49,
   "id": "d70f56de",
   "metadata": {},
   "outputs": [
    {
     "data": {
      "image/png": "[encoded data removed]",
      "text/latex": [
       "$\\displaystyle \\left[\\begin{matrix}1.0\\\\50.0\\\\-0.5\\end{matrix}\\right]$"
      ],
      "text/plain": [
       "⎡1.0 ⎤\n",
       "⎢    ⎥\n",
       "⎢50.0⎥\n",
       "⎢    ⎥\n",
       "⎣-0.5⎦"
      ]
     },
     "execution_count": 49,
     "metadata": {},
     "output_type": "execute_result"
    }
   ],
   "source": [
    "normalize(_)"
   ]
  },
  {
   "cell_type": "markdown",
   "id": "e2865ee9",
   "metadata": {},
   "source": [
    "### Example 7.3\n",
    "Analysis of a compound lens"
   ]
  },
  {
   "cell_type": "code",
   "execution_count": 50,
   "id": "6d76798f",
   "metadata": {},
   "outputs": [
    {
     "data": {
      "image/png": "[encoded data removed]",
      "text/latex": [
       "$\\displaystyle \\left[\\begin{matrix}0.867 & 1.338 & 0\\\\-0.198 & 0.848 & 0\\\\0 & 0 & 1\\end{matrix}\\right]$"
      ],
      "text/plain": [
       "⎡0.867   1.338  0⎤\n",
       "⎢                ⎥\n",
       "⎢-0.198  0.848  0⎥\n",
       "⎢                ⎥\n",
       "⎣  0       0    1⎦"
      ]
     },
     "execution_count": 50,
     "metadata": {},
     "output_type": "execute_result"
    }
   ],
   "source": [
    "# given system RTM\n",
    "M7p3 = Matrix([[0.867,1.338,0],[-0.198,0.848,0],[0,0,1]])\n",
    "M7p3"
   ]
  },
  {
   "cell_type": "code",
   "execution_count": 51,
   "id": "8b216c79",
   "metadata": {},
   "outputs": [
    {
     "data": {
      "image/png": "[encoded data removed]",
      "text/latex": [
       "$\\displaystyle \\left[\\begin{matrix}1\\\\-20\\\\0.1\\end{matrix}\\right]$"
      ],
      "text/plain": [
       "⎡ 1 ⎤\n",
       "⎢   ⎥\n",
       "⎢-20⎥\n",
       "⎢   ⎥\n",
       "⎣0.1⎦"
      ]
     },
     "execution_count": 51,
     "metadata": {},
     "output_type": "execute_result"
    }
   ],
   "source": [
    "# Original Object point\n",
    "O7p3 = point(-20,0.1)\n",
    "O7p3"
   ]
  },
  {
   "cell_type": "code",
   "execution_count": 52,
   "id": "97005c55",
   "metadata": {},
   "outputs": [
    {
     "data": {
      "image/png": "[encoded data removed]",
      "text/latex": [
       "$\\displaystyle \\left[\\begin{matrix}0.848 & 0.198 & 0\\\\-1.338 & 0.867 & 0\\\\0 & 0 & 1.00014\\end{matrix}\\right]$"
      ],
      "text/plain": [
       "⎡0.848   0.198     0   ⎤\n",
       "⎢                      ⎥\n",
       "⎢-1.338  0.867     0   ⎥\n",
       "⎢                      ⎥\n",
       "⎣  0       0    1.00014⎦"
      ]
     },
     "execution_count": 52,
     "metadata": {},
     "output_type": "execute_result"
    }
   ],
   "source": [
    "# system PTM\n",
    "adj(M7p3)"
   ]
  },
  {
   "cell_type": "code",
   "execution_count": 53,
   "id": "afbda04b",
   "metadata": {},
   "outputs": [
    {
     "data": {
      "image/png": "[encoded data removed]",
      "text/latex": [
       "$\\displaystyle \\left[\\begin{matrix}-3.112\\\\-18.678\\\\0.100014\\end{matrix}\\right]$"
      ],
      "text/plain": [
       "⎡ -3.112 ⎤\n",
       "⎢        ⎥\n",
       "⎢-18.678 ⎥\n",
       "⎢        ⎥\n",
       "⎣0.100014⎦"
      ]
     },
     "execution_count": 53,
     "metadata": {},
     "output_type": "execute_result"
    }
   ],
   "source": [
    "# image point\n",
    "adj(M7p3)*O7p3"
   ]
  },
  {
   "cell_type": "code",
   "execution_count": 54,
   "id": "78fa29e6",
   "metadata": {},
   "outputs": [
    {
     "data": {
      "image/png": "[encoded data removed]",
      "text/latex": [
       "$\\displaystyle \\left[\\begin{matrix}1.0\\\\6.00192802056555\\\\-0.0321381748071979\\end{matrix}\\right]$"
      ],
      "text/plain": [
       "⎡        1.0        ⎤\n",
       "⎢                   ⎥\n",
       "⎢ 6.00192802056555  ⎥\n",
       "⎢                   ⎥\n",
       "⎣-0.0321381748071979⎦"
      ]
     },
     "execution_count": 54,
     "metadata": {},
     "output_type": "execute_result"
    }
   ],
   "source": [
    "# normalized image point\n",
    "normalize(_)"
   ]
  },
  {
   "cell_type": "code",
   "execution_count": 55,
   "id": "99387351",
   "metadata": {},
   "outputs": [
    {
     "data": {
      "image/png": "[encoded data removed]",
      "text/latex": [
       "$\\displaystyle \\left[\\begin{matrix}-0.198\\\\-0.867\\\\0\\end{matrix}\\right]$"
      ],
      "text/plain": [
       "⎡-0.198⎤\n",
       "⎢      ⎥\n",
       "⎢-0.867⎥\n",
       "⎢      ⎥\n",
       "⎣  0   ⎦"
      ]
     },
     "execution_count": 55,
     "metadata": {},
     "output_type": "execute_result"
    }
   ],
   "source": [
    "# Back Focal Point of the lens\n",
    "adj(M7p3)*Matrix([[0],[-1],[0]])"
   ]
  },
  {
   "cell_type": "code",
   "execution_count": 56,
   "id": "6501bf19",
   "metadata": {},
   "outputs": [
    {
     "data": {
      "image/png": "[encoded data removed]",
      "text/latex": [
       "$\\displaystyle \\left[\\begin{matrix}1.0\\\\4.37878787878788\\\\0\\end{matrix}\\right]$"
      ],
      "text/plain": [
       "⎡      1.0       ⎤\n",
       "⎢                ⎥\n",
       "⎢4.37878787878788⎥\n",
       "⎢                ⎥\n",
       "⎣       0        ⎦"
      ]
     },
     "execution_count": 56,
     "metadata": {},
     "output_type": "execute_result"
    }
   ],
   "source": [
    "normalize(_)"
   ]
  },
  {
   "cell_type": "markdown",
   "id": "88ed0d93",
   "metadata": {},
   "source": [
    "### Example 7.4\n",
    "Misaligned thin lens"
   ]
  },
  {
   "cell_type": "code",
   "execution_count": 57,
   "id": "bb3e0c89",
   "metadata": {},
   "outputs": [
    {
     "data": {
      "image/png": "[encoded data removed]",
      "text/latex": [
       "$\\displaystyle \\left[\\begin{matrix}1 & 0 & 0\\\\- \\frac{1}{f} & 1 & - \\frac{d}{f}\\\\0 & 0 & 1\\end{matrix}\\right]$"
      ],
      "text/plain": [
       "⎡ 1   0   0 ⎤\n",
       "⎢           ⎥\n",
       "⎢-1      -d ⎥\n",
       "⎢───  1  ───⎥\n",
       "⎢ f       f ⎥\n",
       "⎢           ⎥\n",
       "⎣ 0   0   1 ⎦"
      ]
     },
     "execution_count": 57,
     "metadata": {},
     "output_type": "execute_result"
    }
   ],
   "source": [
    "# RTM for a translated lens\n",
    "M7p4a = T(0,d)*Mlens(f)*(T(0,d).inv())\n",
    "M7p4a"
   ]
  },
  {
   "cell_type": "code",
   "execution_count": 58,
   "id": "de2d704c",
   "metadata": {},
   "outputs": [
    {
     "data": {
      "image/png": "[encoded data removed]",
      "text/latex": [
       "$\\displaystyle \\left[\\begin{matrix}1 & \\frac{1}{f} & 0\\\\0 & 1 & 0\\\\0 & \\frac{d}{f} & 1\\end{matrix}\\right]$"
      ],
      "text/plain": [
       "⎡   1   ⎤\n",
       "⎢1  ─  0⎥\n",
       "⎢   f   ⎥\n",
       "⎢       ⎥\n",
       "⎢0  1  0⎥\n",
       "⎢       ⎥\n",
       "⎢   d   ⎥\n",
       "⎢0  ─  1⎥\n",
       "⎣   f   ⎦"
      ]
     },
     "execution_count": 58,
     "metadata": {},
     "output_type": "execute_result"
    }
   ],
   "source": [
    "# PTM for a translated lens\n",
    "adj(M7p4a)"
   ]
  },
  {
   "cell_type": "code",
   "execution_count": 59,
   "id": "cdb07128",
   "metadata": {},
   "outputs": [
    {
     "data": {
      "image/png": "[encoded data removed]",
      "text/latex": [
       "$\\displaystyle \\left[\\begin{matrix}- \\frac{1}{f}\\\\-1\\\\- \\frac{d}{f}\\end{matrix}\\right]$"
      ],
      "text/plain": [
       "⎡-1 ⎤\n",
       "⎢───⎥\n",
       "⎢ f ⎥\n",
       "⎢   ⎥\n",
       "⎢-1 ⎥\n",
       "⎢   ⎥\n",
       "⎢-d ⎥\n",
       "⎢───⎥\n",
       "⎣ f ⎦"
      ]
     },
     "execution_count": 59,
     "metadata": {},
     "output_type": "execute_result"
    }
   ],
   "source": [
    "# Imaging the ideal point on the optical axis to find the back focal point of the lens\n",
    "adj(M7p4a)*Matrix([[0],[-1],[0]])"
   ]
  },
  {
   "cell_type": "code",
   "execution_count": 60,
   "id": "36817a42",
   "metadata": {},
   "outputs": [
    {
     "data": {
      "image/png": "[encoded data removed]",
      "text/latex": [
       "$\\displaystyle \\left[\\begin{matrix}1\\\\f\\\\d\\end{matrix}\\right]$"
      ],
      "text/plain": [
       "⎡1⎤\n",
       "⎢ ⎥\n",
       "⎢f⎥\n",
       "⎢ ⎥\n",
       "⎣d⎦"
      ]
     },
     "execution_count": 60,
     "metadata": {},
     "output_type": "execute_result"
    }
   ],
   "source": [
    "normalize(_)"
   ]
  },
  {
   "cell_type": "code",
   "execution_count": 61,
   "id": "3e8b2983",
   "metadata": {},
   "outputs": [
    {
     "data": {
      "image/png": "[encoded data removed]",
      "text/latex": [
       "$\\displaystyle \\left[\\begin{matrix}1 & 0 & 0\\\\- \\frac{\\cos{\\left(u \\right)}}{f} & 1 & 0\\\\- \\frac{\\sin{\\left(u \\right)}}{f} & 0 & 1\\end{matrix}\\right]$"
      ],
      "text/plain": [
       "⎡   1      0  0⎤\n",
       "⎢              ⎥\n",
       "⎢-cos(u)       ⎥\n",
       "⎢────────  1  0⎥\n",
       "⎢   f          ⎥\n",
       "⎢              ⎥\n",
       "⎢-sin(u)       ⎥\n",
       "⎢────────  0  1⎥\n",
       "⎣   f          ⎦"
      ]
     },
     "execution_count": 61,
     "metadata": {},
     "output_type": "execute_result"
    }
   ],
   "source": [
    "# RTM of the tilted lens\n",
    "M7p4b = simplify(Rot(u)*Mlens(f)*(Rot(u).inv()))\n",
    "M7p4b"
   ]
  },
  {
   "cell_type": "code",
   "execution_count": 62,
   "id": "34f256c9",
   "metadata": {},
   "outputs": [
    {
     "data": {
      "image/png": "[encoded data removed]",
      "text/latex": [
       "$\\displaystyle \\left[\\begin{matrix}1 & \\frac{\\cos{\\left(u \\right)}}{f} & \\frac{\\sin{\\left(u \\right)}}{f}\\\\0 & 1 & 0\\\\0 & 0 & 1\\end{matrix}\\right]$"
      ],
      "text/plain": [
       "⎡   cos(u)  sin(u)⎤\n",
       "⎢1  ──────  ──────⎥\n",
       "⎢     f       f   ⎥\n",
       "⎢                 ⎥\n",
       "⎢0    1       0   ⎥\n",
       "⎢                 ⎥\n",
       "⎣0    0       1   ⎦"
      ]
     },
     "execution_count": 62,
     "metadata": {},
     "output_type": "execute_result"
    }
   ],
   "source": [
    "# PTM of the tilted lens\n",
    "adj(M7p4b)"
   ]
  },
  {
   "cell_type": "code",
   "execution_count": 63,
   "id": "7db013fa",
   "metadata": {},
   "outputs": [
    {
     "data": {
      "image/png": "[encoded data removed]",
      "text/latex": [
       "$\\displaystyle \\left[\\begin{matrix}1\\\\\\frac{f}{\\cos{\\left(u \\right)}}\\\\0\\end{matrix}\\right]$"
      ],
      "text/plain": [
       "⎡  1   ⎤\n",
       "⎢      ⎥\n",
       "⎢  f   ⎥\n",
       "⎢──────⎥\n",
       "⎢cos(u)⎥\n",
       "⎢      ⎥\n",
       "⎣  0   ⎦"
      ]
     },
     "execution_count": 63,
     "metadata": {},
     "output_type": "execute_result"
    }
   ],
   "source": [
    "# Finding the back focal point of the tilted lens\n",
    "normalize(adj(M7p4b)*Matrix([[0],[-1],[0]]))"
   ]
  },
  {
   "cell_type": "markdown",
   "id": "6912780a",
   "metadata": {},
   "source": [
    "## Other examples\n",
    "These are examples not in the paper, but that readers may still find interesting."
   ]
  },
  {
   "cell_type": "markdown",
   "id": "b3ea8976",
   "metadata": {},
   "source": [
    "### Folding mirrors\n",
    "A common setup in a laser lab is a pair of plane mirrors arranged to route the beam in a Z shape.  This provides the necessary degrees of freedom to adjust both the pointing and lateral position of the beam, for example, to pass the beam through two sequential pinholes.\n",
    "\n",
    "Here is our problem statement:\n",
    "> A laser enters along the _x_-axis from the left.  We use two plane mirrors with their surfaces centered at coordinates $(1,0)$ and $(0,\\sqrt{4/3})$ to steer the beam through a pair of pinholes located at coordinates $(1,\\sqrt{3})$ and $(3,\\sqrt{3})$.\n",
    "> What are the orientations of the two mirrors?  If the mirrors are initially placed with their reflective surfaces facing in the -_x_-direction, how far must we rotated them to shoot the beam through both pinholes?\n",
    ">\n",
    "\n",
    "We'll demonstrate this with a pair of mirrors tilted at unknown angles relative to the axis, and then solve for the angles.\n",
    "\n",
    "* Mirror 1: located at (1,0), tilted by $\\theta_1$ radians\n",
    "* Mirror 2: located at (0,sqrt(3)), tilted by $\\theta_2+\\pi$ radians\n",
    "\n",
    "The incoming beam will be along the optical axis, coming from the left.  The outgoing beam will be at a height of $\\sqrt{3}$ and slope of zero.  From geometry we know that the solution should be $\\theta_1 = \\theta_2 = -\\pi/6$, but let's work it out."
   ]
  },
  {
   "cell_type": "markdown",
   "id": "64a45ffa",
   "metadata": {},
   "source": [
    "![fig/beam-steering.svg](fig/beam-steering.svg)"
   ]
  },
  {
   "cell_type": "code",
   "execution_count": 64,
   "id": "1e4b1f4b",
   "metadata": {},
   "outputs": [],
   "source": [
    "θ1, θ2 = symbols(\"θ_1, θ_2\", real=True)"
   ]
  },
  {
   "cell_type": "code",
   "execution_count": 65,
   "id": "8ef021ee",
   "metadata": {},
   "outputs": [
    {
     "data": {
      "text/latex": [
       "$\\displaystyle \\left[\\begin{matrix}-1 & - 2 \\cos^{2}{\\left(θ_{1} \\right)} & - \\sin{\\left(2 θ_{1} \\right)}\\\\0 & \\cos{\\left(2 θ_{1} \\right)} & \\sin{\\left(2 θ_{1} \\right)}\\\\0 & \\sin{\\left(2 θ_{1} \\right)} & - \\cos{\\left(2 θ_{1} \\right)}\\end{matrix}\\right]$"
      ],
      "text/plain": [
       "⎡          2                ⎤\n",
       "⎢-1  -2⋅cos (θ₁)  -sin(2⋅θ₁)⎥\n",
       "⎢                           ⎥\n",
       "⎢0    cos(2⋅θ₁)   sin(2⋅θ₁) ⎥\n",
       "⎢                           ⎥\n",
       "⎣0    sin(2⋅θ₁)   -cos(2⋅θ₁)⎦"
      ]
     },
     "execution_count": 65,
     "metadata": {},
     "output_type": "execute_result"
    }
   ],
   "source": [
    "# Mirror 1\n",
    "FM1 = simplify(T(1,0)*Rot(θ1)*Mmirror*Rot(-θ1)*T(-1,0))\n",
    "FM1"
   ]
  },
  {
   "cell_type": "code",
   "execution_count": 66,
   "id": "5012405c",
   "metadata": {},
   "outputs": [
    {
     "data": {
      "text/latex": [
       "$\\displaystyle \\left[\\begin{matrix}- \\sin{\\left(2 θ_{1} \\right)}\\\\\\sin{\\left(2 θ_{1} \\right)}\\\\- \\cos{\\left(2 θ_{1} \\right)}\\end{matrix}\\right]$"
      ],
      "text/plain": [
       "⎡-sin(2⋅θ₁)⎤\n",
       "⎢          ⎥\n",
       "⎢sin(2⋅θ₁) ⎥\n",
       "⎢          ⎥\n",
       "⎣-cos(2⋅θ₁)⎦"
      ]
     },
     "execution_count": 66,
     "metadata": {},
     "output_type": "execute_result"
    }
   ],
   "source": [
    "# effect of mirror 1 on the beam\n",
    "FM1*ray(0,0)"
   ]
  },
  {
   "cell_type": "code",
   "execution_count": 67,
   "id": "309000e1",
   "metadata": {},
   "outputs": [
    {
     "data": {
      "text/latex": [
       "$\\displaystyle \\left[\\begin{matrix}-1 & - \\sqrt{3} \\sin{\\left(2 θ_{2} \\right)} & \\sqrt{3} \\left(\\cos{\\left(2 θ_{2} \\right)} - 1\\right)\\\\0 & \\cos{\\left(2 θ_{2} \\right)} & \\sin{\\left(2 θ_{2} \\right)}\\\\0 & \\sin{\\left(2 θ_{2} \\right)} & - \\cos{\\left(2 θ_{2} \\right)}\\end{matrix}\\right]$"
      ],
      "text/plain": [
       "⎡-1  -√3⋅sin(2⋅θ₂)  √3⋅(cos(2⋅θ₂) - 1)⎤\n",
       "⎢                                     ⎥\n",
       "⎢0     cos(2⋅θ₂)        sin(2⋅θ₂)     ⎥\n",
       "⎢                                     ⎥\n",
       "⎣0     sin(2⋅θ₂)        -cos(2⋅θ₂)    ⎦"
      ]
     },
     "execution_count": 67,
     "metadata": {},
     "output_type": "execute_result"
    }
   ],
   "source": [
    "# Mirror2\n",
    "FM2 = simplify(T(0,sqrt(3))*Rot(θ2+pi)*Mmirror*Rot(-θ2+pi)*T(0,-sqrt(3)))\n",
    "FM2"
   ]
  },
  {
   "cell_type": "code",
   "execution_count": 68,
   "id": "d7ae8b4c",
   "metadata": {},
   "outputs": [
    {
     "data": {
      "text/latex": [
       "$\\displaystyle \\left[\\begin{matrix}1 & \\sqrt{3} \\left(\\cos{\\left(2 θ_{2} \\right)} - 1\\right) \\sin{\\left(2 θ_{1} \\right)} - \\sqrt{3} \\sin{\\left(2 θ_{2} \\right)} \\cos{\\left(2 θ_{1} \\right)} + 2 \\cos^{2}{\\left(θ_{1} \\right)} & - \\sqrt{3} \\left(\\cos{\\left(2 θ_{2} \\right)} - 1\\right) \\cos{\\left(2 θ_{1} \\right)} - \\sqrt{3} \\sin{\\left(2 θ_{1} \\right)} \\sin{\\left(2 θ_{2} \\right)} + \\sin{\\left(2 θ_{1} \\right)}\\\\0 & \\sin{\\left(2 θ_{1} \\right)} \\sin{\\left(2 θ_{2} \\right)} + \\cos{\\left(2 θ_{1} \\right)} \\cos{\\left(2 θ_{2} \\right)} & \\sin{\\left(2 θ_{1} \\right)} \\cos{\\left(2 θ_{2} \\right)} - \\sin{\\left(2 θ_{2} \\right)} \\cos{\\left(2 θ_{1} \\right)}\\\\0 & - \\sin{\\left(2 θ_{1} \\right)} \\cos{\\left(2 θ_{2} \\right)} + \\sin{\\left(2 θ_{2} \\right)} \\cos{\\left(2 θ_{1} \\right)} & \\sin{\\left(2 θ_{1} \\right)} \\sin{\\left(2 θ_{2} \\right)} + \\cos{\\left(2 θ_{1} \\right)} \\cos{\\left(2 θ_{2} \\right)}\\end{matrix}\\right]$"
      ],
      "text/plain": [
       "⎡                                                                2                                                    \n",
       "⎢1  √3⋅(cos(2⋅θ₂) - 1)⋅sin(2⋅θ₁) - √3⋅sin(2⋅θ₂)⋅cos(2⋅θ₁) + 2⋅cos (θ₁)  -√3⋅(cos(2⋅θ₂) - 1)⋅cos(2⋅θ₁) - √3⋅sin(2⋅θ₁)⋅s\n",
       "⎢                                                                                                                     \n",
       "⎢0              sin(2⋅θ₁)⋅sin(2⋅θ₂) + cos(2⋅θ₁)⋅cos(2⋅θ₂)                           sin(2⋅θ₁)⋅cos(2⋅θ₂) - sin(2⋅θ₂)⋅co\n",
       "⎢                                                                                                                     \n",
       "⎣0              -sin(2⋅θ₁)⋅cos(2⋅θ₂) + sin(2⋅θ₂)⋅cos(2⋅θ₁)                          sin(2⋅θ₁)⋅sin(2⋅θ₂) + cos(2⋅θ₁)⋅co\n",
       "\n",
       "                    ⎤\n",
       "in(2⋅θ₂) + sin(2⋅θ₁)⎥\n",
       "                    ⎥\n",
       "s(2⋅θ₁)             ⎥\n",
       "                    ⎥\n",
       "s(2⋅θ₂)             ⎦"
      ]
     },
     "execution_count": 68,
     "metadata": {},
     "output_type": "execute_result"
    }
   ],
   "source": [
    "# The combination is just a translation of the beam up by $\\sqrt{3}/2$\n",
    "FM2*FM1"
   ]
  },
  {
   "cell_type": "code",
   "execution_count": 69,
   "id": "c3c6c845-57e9-40ac-a4c1-b21828ea6716",
   "metadata": {},
   "outputs": [
    {
     "data": {
      "text/latex": [
       "$\\displaystyle \\left[\\begin{matrix}1 & - \\sqrt{3} \\sin{\\left(2 θ_{1} \\right)} + \\sqrt{3} \\sin{\\left(2 θ_{1} - 2 θ_{2} \\right)} + \\cos{\\left(2 θ_{1} \\right)} + 1 & \\sin{\\left(2 θ_{1} \\right)} + \\sqrt{3} \\cos{\\left(2 θ_{1} \\right)} - \\sqrt{3} \\cos{\\left(2 θ_{1} - 2 θ_{2} \\right)}\\\\0 & \\cos{\\left(2 θ_{1} - 2 θ_{2} \\right)} & \\sin{\\left(2 θ_{1} - 2 θ_{2} \\right)}\\\\0 & - \\sin{\\left(2 θ_{1} - 2 θ_{2} \\right)} & \\cos{\\left(2 θ_{1} - 2 θ_{2} \\right)}\\end{matrix}\\right]$"
      ],
      "text/plain": [
       "⎡1  -√3⋅sin(2⋅θ₁) + √3⋅sin(2⋅θ₁ - 2⋅θ₂) + cos(2⋅θ₁) + 1  sin(2⋅θ₁) + √3⋅cos(2⋅θ₁) - √3⋅cos(2⋅θ₁ - 2⋅θ₂)⎤\n",
       "⎢                                                                                                      ⎥\n",
       "⎢0                   cos(2⋅θ₁ - 2⋅θ₂)                                   sin(2⋅θ₁ - 2⋅θ₂)               ⎥\n",
       "⎢                                                                                                      ⎥\n",
       "⎣0                   -sin(2⋅θ₁ - 2⋅θ₂)                                  cos(2⋅θ₁ - 2⋅θ₂)               ⎦"
      ]
     },
     "execution_count": 69,
     "metadata": {},
     "output_type": "execute_result"
    }
   ],
   "source": [
    "# simplify the expression above\n",
    "simplify(FM2*FM1)"
   ]
  },
  {
   "cell_type": "code",
   "execution_count": 70,
   "id": "e46faa28",
   "metadata": {},
   "outputs": [
    {
     "data": {
      "text/latex": [
       "$\\displaystyle \\left[\\begin{matrix}\\sin{\\left(2 θ_{1} \\right)} + \\sqrt{3} \\cos{\\left(2 θ_{1} \\right)} - \\sqrt{3} \\cos{\\left(2 θ_{1} - 2 θ_{2} \\right)}\\\\\\sin{\\left(2 θ_{1} - 2 θ_{2} \\right)}\\\\\\cos{\\left(2 θ_{1} - 2 θ_{2} \\right)}\\end{matrix}\\right]$"
      ],
      "text/plain": [
       "⎡sin(2⋅θ₁) + √3⋅cos(2⋅θ₁) - √3⋅cos(2⋅θ₁ - 2⋅θ₂)⎤\n",
       "⎢                                              ⎥\n",
       "⎢               sin(2⋅θ₁ - 2⋅θ₂)               ⎥\n",
       "⎢                                              ⎥\n",
       "⎣               cos(2⋅θ₁ - 2⋅θ₂)               ⎦"
      ]
     },
     "execution_count": 70,
     "metadata": {},
     "output_type": "execute_result"
    }
   ],
   "source": [
    "# acting on the ray\n",
    "simplify(FM2*FM1*ray(0,0))"
   ]
  },
  {
   "cell_type": "code",
   "execution_count": 71,
   "id": "f0d27812",
   "metadata": {},
   "outputs": [
    {
     "data": {
      "text/latex": [
       "$\\displaystyle \\left[\\begin{matrix}\\frac{\\sin{\\left(2 θ_{1} \\right)} + \\sqrt{3} \\cos{\\left(2 θ_{1} \\right)} - \\sqrt{3} \\cos{\\left(2 θ_{1} - 2 θ_{2} \\right)}}{\\cos{\\left(2 θ_{1} - 2 θ_{2} \\right)}}\\\\\\tan{\\left(2 θ_{1} - 2 θ_{2} \\right)}\\\\1\\end{matrix}\\right]$"
      ],
      "text/plain": [
       "⎡sin(2⋅θ₁) + √3⋅cos(2⋅θ₁) - √3⋅cos(2⋅θ₁ - 2⋅θ₂)⎤\n",
       "⎢──────────────────────────────────────────────⎥\n",
       "⎢               cos(2⋅θ₁ - 2⋅θ₂)               ⎥\n",
       "⎢                                              ⎥\n",
       "⎢               tan(2⋅θ₁ - 2⋅θ₂)               ⎥\n",
       "⎢                                              ⎥\n",
       "⎣                      1                       ⎦"
      ]
     },
     "execution_count": 71,
     "metadata": {},
     "output_type": "execute_result"
    }
   ],
   "source": [
    "output_ray=simplify(_/_[2,0])\n",
    "output_ray"
   ]
  },
  {
   "cell_type": "markdown",
   "id": "f1795db2",
   "metadata": {},
   "source": [
    "This has to match our outgoing ray:"
   ]
  },
  {
   "cell_type": "code",
   "execution_count": 72,
   "id": "34e3c044",
   "metadata": {},
   "outputs": [
    {
     "data": {
      "image/png": "[encoded data removed]",
      "text/latex": [
       "$\\displaystyle \\left[\\begin{matrix}- \\sqrt{3}\\\\0\\\\1\\end{matrix}\\right]$"
      ],
      "text/plain": [
       "⎡-√3⎤\n",
       "⎢   ⎥\n",
       "⎢ 0 ⎥\n",
       "⎢   ⎥\n",
       "⎣ 1 ⎦"
      ]
     },
     "execution_count": 72,
     "metadata": {},
     "output_type": "execute_result"
    }
   ],
   "source": [
    "target_ray=ray(sqrt(3),0)\n",
    "target_ray"
   ]
  },
  {
   "cell_type": "markdown",
   "id": "5dc3968f",
   "metadata": {},
   "source": [
    "_Undocumented trick:_ We can also get the target ray by taking the vector cross product of the two pinhole locations expressed in our homogeneous vector format. (Apologies for the ugly code - _sympy_ does not make this easy for us.)  The converse trick also works: the cross product of two ray vectors is the point where they intersect (which may be an ideal point)."
   ]
  },
  {
   "cell_type": "code",
   "execution_count": 73,
   "id": "7f24d192",
   "metadata": {},
   "outputs": [],
   "source": [
    "# import vector algebra and define a vector coordinate system\n",
    "from sympy.vector import cross, matrix_to_vector, CoordSys3D\n",
    "\n",
    "coord = CoordSys3D('coord')"
   ]
  },
  {
   "cell_type": "code",
   "execution_count": 74,
   "id": "948465e3",
   "metadata": {},
   "outputs": [
    {
     "data": {
      "image/png": "[encoded data removed]",
      "text/latex": [
       "$\\displaystyle \\left[\\begin{matrix}- \\sqrt{3}\\\\0\\\\1\\end{matrix}\\right]$"
      ],
      "text/plain": [
       "⎡-√3⎤\n",
       "⎢   ⎥\n",
       "⎢ 0 ⎥\n",
       "⎢   ⎥\n",
       "⎣ 1 ⎦"
      ]
     },
     "execution_count": 74,
     "metadata": {},
     "output_type": "execute_result"
    }
   ],
   "source": [
    "# the target ray calculated via the cross product trick:\n",
    "standardize_ray(cross(matrix_to_vector(point(1,sqrt(3)),coord),matrix_to_vector(point(3,sqrt(3)),coord)).to_matrix(coord))"
   ]
  },
  {
   "cell_type": "markdown",
   "id": "8ea59979",
   "metadata": {},
   "source": [
    "Solve for the values of $\\theta_1$ and $\\theta_2$ by setting each row of the rays equal to each other."
   ]
  },
  {
   "cell_type": "code",
   "execution_count": 75,
   "id": "b23ba647",
   "metadata": {},
   "outputs": [
    {
     "data": {
      "image/png": "[encoded data removed]",
      "text/latex": [
       "$\\displaystyle \\left[ \\left\\{ θ_{1} : - \\frac{\\pi}{6}, \\  θ_{2} : - \\frac{\\pi}{6}\\right\\}\\right]$"
      ],
      "text/plain": [
       "⎡⎧    -π       -π ⎫⎤\n",
       "⎢⎨θ₁: ───, θ₂: ───⎬⎥\n",
       "⎣⎩     6        6 ⎭⎦"
      ]
     },
     "execution_count": 75,
     "metadata": {},
     "output_type": "execute_result"
    }
   ],
   "source": [
    "solve([output_ray[1,0] - target_ray[1,0],output_ray[0,0] - target_ray[0,0]], [θ1,θ2], dict=True)"
   ]
  },
  {
   "cell_type": "code",
   "execution_count": 76,
   "id": "ef7b980e",
   "metadata": {},
   "outputs": [
    {
     "data": {
      "image/png": "[encoded data removed]",
      "text/latex": [
       "$\\displaystyle -0.523598775598299$"
      ],
      "text/plain": [
       "-0.523598775598299"
      ]
     },
     "execution_count": 76,
     "metadata": {},
     "output_type": "execute_result"
    }
   ],
   "source": [
    "# the angle in decimal form for comparison below\n",
    "N(-pi/6)"
   ]
  },
  {
   "cell_type": "markdown",
   "id": "495cb643",
   "metadata": {},
   "source": [
    "Now let's modify the problem to make the solution harder to work by hand using geometry.  Let's say we need to move the first mirror up by 0.1 (perhaps because of the way it is mounted).  The new RTM for mirror 1 is"
   ]
  },
  {
   "cell_type": "code",
   "execution_count": 77,
   "id": "7bb1078e",
   "metadata": {},
   "outputs": [
    {
     "data": {
      "text/latex": [
       "$\\displaystyle \\left[\\begin{matrix}-1 & - 0.1 \\sin{\\left(2 θ_{1} \\right)} - 1.0 \\cos{\\left(2 θ_{1} \\right)} - 1.0 & - 1.0 \\sin{\\left(2 θ_{1} \\right)} + 0.1 \\cos{\\left(2 θ_{1} \\right)} - 0.1\\\\0 & \\cos{\\left(2 θ_{1} \\right)} & \\sin{\\left(2 θ_{1} \\right)}\\\\0 & \\sin{\\left(2 θ_{1} \\right)} & - \\cos{\\left(2 θ_{1} \\right)}\\end{matrix}\\right]$"
      ],
      "text/plain": [
       "⎡-1  -0.1⋅sin(2⋅θ₁) - cos(2⋅θ₁) - 1.0  -sin(2⋅θ₁) + 0.1⋅cos(2⋅θ₁) - 0.1⎤\n",
       "⎢                                                                      ⎥\n",
       "⎢0              cos(2⋅θ₁)                         sin(2⋅θ₁)            ⎥\n",
       "⎢                                                                      ⎥\n",
       "⎣0              sin(2⋅θ₁)                         -cos(2⋅θ₁)           ⎦"
      ]
     },
     "execution_count": 77,
     "metadata": {},
     "output_type": "execute_result"
    }
   ],
   "source": [
    "FM1new = simplify(T(1,0.1)*Rot(θ1)*Mmirror*Rot(-θ1)*T(-1,-0.1))\n",
    "FM1new"
   ]
  },
  {
   "cell_type": "markdown",
   "id": "d5658051",
   "metadata": {},
   "source": [
    "The solution proceeds the same as before..."
   ]
  },
  {
   "cell_type": "code",
   "execution_count": 78,
   "id": "d5b674c0",
   "metadata": {},
   "outputs": [
    {
     "data": {
      "text/latex": [
       "$\\displaystyle \\left[\\begin{matrix}\\frac{1.0 \\sin{\\left(2 θ_{1} \\right)} - 0.1 \\cos{\\left(2 θ_{1} \\right)} + 1.0 \\sqrt{3} \\cos{\\left(2 θ_{1} \\right)} - 1.0 \\sqrt{3} \\cos{\\left(2 θ_{1} - 2 θ_{2} \\right)} + 0.1}{\\cos{\\left(2 θ_{1} - 2 θ_{2} \\right)}}\\\\\\tan{\\left(2 θ_{1} - 2 θ_{2} \\right)}\\\\1\\end{matrix}\\right]$"
      ],
      "text/plain": [
       "⎡1.0⋅sin(2⋅θ₁) - 0.1⋅cos(2⋅θ₁) + 1.0⋅√3⋅cos(2⋅θ₁) - √3⋅cos(2⋅θ₁ - 2⋅θ₂) + 0.1⎤\n",
       "⎢────────────────────────────────────────────────────────────────────────────⎥\n",
       "⎢                              cos(2⋅θ₁ - 2⋅θ₂)                              ⎥\n",
       "⎢                                                                            ⎥\n",
       "⎢                              tan(2⋅θ₁ - 2⋅θ₂)                              ⎥\n",
       "⎢                                                                            ⎥\n",
       "⎣                                     1                                      ⎦"
      ]
     },
     "execution_count": 78,
     "metadata": {},
     "output_type": "execute_result"
    }
   ],
   "source": [
    "new_output_ray = FM2*FM1new*ray(0,0)\n",
    "new_output_ray = simplify(new_output_ray/new_output_ray[2,0])\n",
    "new_output_ray"
   ]
  },
  {
   "cell_type": "code",
   "execution_count": 79,
   "id": "a7c494b1",
   "metadata": {},
   "outputs": [
    {
     "data": {
      "image/png": "[encoded data removed]",
      "text/latex": [
       "$\\displaystyle \\left[ \\left\\{ θ_{1} : -0.536670493608979, \\  θ_{2} : -0.536670493608979\\right\\}, \\  \\left\\{ θ_{1} : 1.08639485198311, \\  θ_{2} : 1.08639485198311\\right\\}\\right]$"
      ],
      "text/plain": [
       "[{θ₁: -0.536670493608979, θ₂: -0.536670493608979}, {θ₁: 1.08639485198311, θ₂: 1.08639485198311}]"
      ]
     },
     "execution_count": 79,
     "metadata": {},
     "output_type": "execute_result"
    }
   ],
   "source": [
    "solve([new_output_ray[1,0] - target_ray[1,0],new_output_ray[0,0] - target_ray[0,0]], [θ1,θ2], dict=True)"
   ]
  },
  {
   "cell_type": "markdown",
   "id": "8005a273",
   "metadata": {},
   "source": [
    "We see that the angles have slightly changed, but the mirrors are still parallel to each other.  The second solution can be discarded because it would have the rays hitting the back surface of the mirrors, which is not physical."
   ]
  },
  {
   "cell_type": "markdown",
   "id": "1c56b02c",
   "metadata": {},
   "source": [
    "### Example: thick lens\n",
    "Let's locate the focal points of a thick plano-convex lens, with the curved side first, vertex at the origin, and reseting the coordinate axes at the end.\n",
    "\n",
    "* Radius of curvature: _R_ = 50 mm\n",
    "* Thickness: _d_ = 5 mm\n",
    "* Index of refraction: _n_ = 3/2"
   ]
  },
  {
   "cell_type": "code",
   "execution_count": 80,
   "id": "fe14a734",
   "metadata": {},
   "outputs": [],
   "source": [
    "R = 50\n",
    "d = 5\n",
    "n = Rational(3,2) # the fraction 3/2"
   ]
  },
  {
   "cell_type": "markdown",
   "id": "57cefc35",
   "metadata": {},
   "source": [
    "The order of operators (from right to left) is\n",
    "* Spherical surface (convex)\n",
    "* Thickness of the lens\n",
    "* Planar surface\n",
    "* Reset coordinates back to the original place"
   ]
  },
  {
   "cell_type": "code",
   "execution_count": 81,
   "id": "7112b50c",
   "metadata": {},
   "outputs": [
    {
     "data": {
      "image/png": "[encoded data removed]",
      "text/latex": [
       "$\\displaystyle \\left[\\begin{matrix}\\frac{61}{60} & - \\frac{5}{3} & 0\\\\- \\frac{1}{100} & 1 & 0\\\\0 & 0 & 1\\end{matrix}\\right]$"
      ],
      "text/plain": [
       "⎡  61           ⎤\n",
       "⎢  ──    -5/3  0⎥\n",
       "⎢  60           ⎥\n",
       "⎢               ⎥\n",
       "⎢-1/100   1    0⎥\n",
       "⎢               ⎥\n",
       "⎣  0      0    1⎦"
      ]
     },
     "execution_count": 81,
     "metadata": {},
     "output_type": "execute_result"
    }
   ],
   "source": [
    "# RTM for the thick lens\n",
    "Mpx=T(d,0)*Msnell(n,1)*T(-d,0)*Msphr(1,n,R)\n",
    "Mpx"
   ]
  },
  {
   "cell_type": "markdown",
   "id": "069685ca",
   "metadata": {},
   "source": [
    "The effective focal length is -1/B, just like the thin lens. (Think of this as the conversion factor between the height of an incoming horizontal ray and the slope of the outgoing ray.)"
   ]
  },
  {
   "cell_type": "code",
   "execution_count": 82,
   "id": "14c34d89",
   "metadata": {},
   "outputs": [
    {
     "data": {
      "image/png": "[encoded data removed]",
      "text/latex": [
       "$\\displaystyle 100$"
      ],
      "text/plain": [
       "100"
      ]
     },
     "execution_count": 82,
     "metadata": {},
     "output_type": "execute_result"
    }
   ],
   "source": [
    "EFL = -1/Mpx[1,0]\n",
    "EFL"
   ]
  },
  {
   "cell_type": "markdown",
   "id": "a4142712",
   "metadata": {},
   "source": [
    "We can find the back focal point by imaging an ideal point in the -x direction. (Note that this will be measured from the origin, i.e. the front of the lens)."
   ]
  },
  {
   "cell_type": "code",
   "execution_count": 83,
   "id": "696fe0e6",
   "metadata": {},
   "outputs": [
    {
     "data": {
      "image/png": "[encoded data removed]",
      "text/latex": [
       "$\\displaystyle 101.666666666667$"
      ],
      "text/plain": [
       "101.666666666667"
      ]
     },
     "execution_count": 83,
     "metadata": {},
     "output_type": "execute_result"
    }
   ],
   "source": [
    "BFP=N(normalize(adj(Mpx)*Matrix([[0],[-1],[0]])))[1]\n",
    "BFP"
   ]
  },
  {
   "cell_type": "markdown",
   "id": "c2fd390e",
   "metadata": {},
   "source": [
    "We can find the front focal point by reversing the system and repeating the above.  The vertex of the convex side will still be at the origin after the inversion.\n",
    "\n",
    "To reverse the system, we need to invert the system matrix and bring in the ray from the left side."
   ]
  },
  {
   "cell_type": "code",
   "execution_count": 84,
   "id": "5ffc36cf",
   "metadata": {},
   "outputs": [
    {
     "data": {
      "image/png": "[encoded data removed]",
      "text/latex": [
       "$\\displaystyle -100.0$"
      ],
      "text/plain": [
       "-100.000000000000"
      ]
     },
     "execution_count": 84,
     "metadata": {},
     "output_type": "execute_result"
    }
   ],
   "source": [
    "FFP=N(normalize(adj(Mpx).inv()*Matrix([[0],[-1],[0]])))[1]\n",
    "FFP"
   ]
  },
  {
   "cell_type": "markdown",
   "id": "f2333d94",
   "metadata": {},
   "source": [
    "The principal planes are a distance EFL from the focal points."
   ]
  },
  {
   "cell_type": "code",
   "execution_count": 85,
   "id": "ff8d16d6",
   "metadata": {},
   "outputs": [
    {
     "data": {
      "image/png": "[encoded data removed]",
      "text/latex": [
       "$\\displaystyle 0$"
      ],
      "text/plain": [
       "0"
      ]
     },
     "execution_count": 85,
     "metadata": {},
     "output_type": "execute_result"
    }
   ],
   "source": [
    "# Front principle plane (should be at the vertex of the concave side)\n",
    "FPP = FFP+EFL\n",
    "FPP"
   ]
  },
  {
   "cell_type": "code",
   "execution_count": 86,
   "id": "0da4eac2",
   "metadata": {},
   "outputs": [
    {
     "data": {
      "image/png": "[encoded data removed]",
      "text/latex": [
       "$\\displaystyle 1.66666666666667$"
      ],
      "text/plain": [
       "1.66666666666667"
      ]
     },
     "execution_count": 86,
     "metadata": {},
     "output_type": "execute_result"
    }
   ],
   "source": [
    "# Back principle plane (should be approximately 1/3 of the lens thickness for a glass lens)\n",
    "BPP = BFP-EFL\n",
    "BPP"
   ]
  },
  {
   "cell_type": "markdown",
   "id": "21b303cb",
   "metadata": {},
   "source": [
    "These results agree with the known properties of a glass plano-convex lens.  The principal planes are at the vertex of the convex surface and about 1/3 of the thickness of the lens from the vertex."
   ]
  },
  {
   "cell_type": "markdown",
   "id": "83de8ea5",
   "metadata": {},
   "source": [
    "### Example: Right-angle prism\n",
    "We'll modify the right-angle mirror retroreflector example above to make a right-angle prism retroreflector.\n",
    "* Index of refraction: _n_\n",
    "* Thickness (from hypotenuse to right-angle): _d_"
   ]
  },
  {
   "cell_type": "code",
   "execution_count": 87,
   "id": "11a29007",
   "metadata": {},
   "outputs": [
    {
     "data": {
      "image/png": "[encoded data removed]",
      "text/latex": [
       "$\\displaystyle \\left[\\begin{matrix}1 & 0 & 0\\\\0 & -1 & 0\\\\0 & 0 & -1\\end{matrix}\\right]$"
      ],
      "text/plain": [
       "⎡1  0   0 ⎤\n",
       "⎢         ⎥\n",
       "⎢0  -1  0 ⎥\n",
       "⎢         ⎥\n",
       "⎣0  0   -1⎦"
      ]
     },
     "execution_count": 87,
     "metadata": {},
     "output_type": "execute_result"
    }
   ],
   "source": [
    "# The right-angle mirror matrix from Example 5.1\n",
    "Mra"
   ]
  },
  {
   "cell_type": "code",
   "execution_count": 88,
   "id": "e9ffd077",
   "metadata": {},
   "outputs": [],
   "source": [
    "d, n = symbols('d, n', real=True)"
   ]
  },
  {
   "cell_type": "code",
   "execution_count": 89,
   "id": "6bc4842f",
   "metadata": {},
   "outputs": [
    {
     "data": {
      "image/png": "[encoded data removed]",
      "text/latex": [
       "$\\displaystyle \\left[\\begin{matrix}1 & - d + \\frac{d}{n} & 0\\\\0 & \\frac{1}{n} & 0\\\\0 & 0 & 1\\end{matrix}\\right]$"
      ],
      "text/plain": [
       "⎡        d   ⎤\n",
       "⎢1  -d + ─  0⎥\n",
       "⎢        n   ⎥\n",
       "⎢            ⎥\n",
       "⎢     1      ⎥\n",
       "⎢0    ─     0⎥\n",
       "⎢     n      ⎥\n",
       "⎢            ⎥\n",
       "⎣0    0     1⎦"
      ]
     },
     "execution_count": 89,
     "metadata": {},
     "output_type": "execute_result"
    }
   ],
   "source": [
    "# entrance refracting surface\n",
    "S1=T(-d,0)*Msnell(1,n)*T(d,0)\n",
    "simplify(S1)"
   ]
  },
  {
   "cell_type": "code",
   "execution_count": 90,
   "id": "4e8b99e6",
   "metadata": {},
   "outputs": [
    {
     "data": {
      "image/png": "[encoded data removed]",
      "text/latex": [
       "$\\displaystyle \\left[\\begin{matrix}1 & d n - d & 0\\\\0 & n & 0\\\\0 & 0 & 1\\end{matrix}\\right]$"
      ],
      "text/plain": [
       "⎡1  d⋅n - d  0⎤\n",
       "⎢             ⎥\n",
       "⎢0     n     0⎥\n",
       "⎢             ⎥\n",
       "⎣0     0     1⎦"
      ]
     },
     "execution_count": 90,
     "metadata": {},
     "output_type": "execute_result"
    }
   ],
   "source": [
    "# exit refracting surface\n",
    "S2 = T(-d,0)*Msnell(n,1)*T(d,0)\n",
    "S2"
   ]
  },
  {
   "cell_type": "code",
   "execution_count": 91,
   "id": "b6712cbe",
   "metadata": {},
   "outputs": [
    {
     "data": {
      "image/png": "[encoded data removed]",
      "text/latex": [
       "$\\displaystyle \\left[\\begin{matrix}1 & \\frac{2 d \\left(1 - n\\right)}{n} & 0\\\\0 & -1 & 0\\\\0 & 0 & -1\\end{matrix}\\right]$"
      ],
      "text/plain": [
       "⎡   2⋅d⋅(1 - n)    ⎤\n",
       "⎢1  ───────────  0 ⎥\n",
       "⎢        n         ⎥\n",
       "⎢                  ⎥\n",
       "⎢0      -1       0 ⎥\n",
       "⎢                  ⎥\n",
       "⎣0       0       -1⎦"
      ]
     },
     "execution_count": 91,
     "metadata": {},
     "output_type": "execute_result"
    }
   ],
   "source": [
    "# Prism\n",
    "Mrap = S2*Mra*S1\n",
    "simplify(Mrap)"
   ]
  },
  {
   "cell_type": "code",
   "execution_count": 92,
   "id": "22bfb1c6",
   "metadata": {
    "lines_to_next_cell": 2
   },
   "outputs": [
    {
     "data": {
      "image/png": "[encoded data removed]",
      "text/latex": [
       "$\\displaystyle \\left[\\begin{matrix}\\frac{2 d m \\left(n - 1\\right) - h n}{n}\\\\m\\\\-1\\end{matrix}\\right]$"
      ],
      "text/plain": [
       "⎡2⋅d⋅m⋅(n - 1) - h⋅n⎤\n",
       "⎢───────────────────⎥\n",
       "⎢         n         ⎥\n",
       "⎢                   ⎥\n",
       "⎢         m         ⎥\n",
       "⎢                   ⎥\n",
       "⎣        -1         ⎦"
      ]
     },
     "execution_count": 92,
     "metadata": {},
     "output_type": "execute_result"
    }
   ],
   "source": [
    "# outgoing ray\n",
    "simplify(Mrap*ray(h,m))"
   ]
  }
 ],
 "metadata": {
  "jupytext": {
   "cell_metadata_filter": "-all",
   "formats": "ipynb,py:percent",
   "main_language": "python"
  },
  "kernelspec": {
   "display_name": "Python 3 (ipykernel)",
   "language": "python",
   "name": "python3"
  },
  "language_info": {
   "codemirror_mode": {
    "name": "ipython",
    "version": 3
   },
   "file_extension": ".py",
   "mimetype": "text/x-python",
   "name": "python",
   "nbconvert_exporter": "python",
   "pygments_lexer": "ipython3",
   "version": "3.10.14"
  }
 },
 "nbformat": 4,
 "nbformat_minor": 5
}
